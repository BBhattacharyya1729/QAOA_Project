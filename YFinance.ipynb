{
 "cells": [
  {
   "cell_type": "code",
   "execution_count": 1,
   "id": "56d07d03-9dd2-4c65-96aa-8f29f69b404a",
   "metadata": {},
   "outputs": [
    {
     "name": "stdout",
     "output_type": "stream",
     "text": [
      "Retrieved data for AAPL\n",
      "Retrieved data for MSFT\n",
      "Retrieved data for GOOGL\n",
      "Retrieved data for AMZN\n",
      "Retrieved data for DIS\n",
      "Retrieved data for TSLA\n",
      "Retrieved data for NVDA\n",
      "                                 AAPL        MSFT       GOOGL        AMZN  \\\n",
      "Date                                                                        \n",
      "2019-04-04 00:00:00-04:00   46.881028  114.322265   60.564499   91.032501   \n",
      "2019-04-05 00:00:00-04:00   47.280546  113.646414   60.965000   91.449997   \n",
      "2019-04-08 00:00:00-04:00   47.273331  114.046232   60.555500   91.661499   \n",
      "2019-04-09 00:00:00-04:00   48.211965  112.922986   60.094501   92.274498   \n",
      "2019-04-10 00:00:00-04:00   47.817255  113.998630   60.254501   92.050003   \n",
      "...                               ...         ...         ...         ...   \n",
      "2024-03-28 00:00:00-04:00  171.750000  420.959991  150.850006  180.169998   \n",
      "2024-04-01 00:00:00-04:00  171.190002  423.950012  150.690002  180.789993   \n",
      "2024-04-02 00:00:00-04:00  169.080002  420.109985  153.500000  179.070007   \n",
      "2024-04-03 00:00:00-04:00  168.789993  419.730011  153.600006  179.899994   \n",
      "2024-04-04 00:00:00-04:00  170.289993  424.989990  153.539993  184.199997   \n",
      "\n",
      "                                  DIS        TSLA        NVDA  \n",
      "Date                                                           \n",
      "2019-04-04 00:00:00-04:00  111.509360   17.459333   46.680800  \n",
      "2019-04-05 00:00:00-04:00  113.212922   17.990667   47.177402  \n",
      "2019-04-08 00:00:00-04:00  113.242461   18.512667   47.107881  \n",
      "2019-04-09 00:00:00-04:00  113.843139   18.110001   47.286658  \n",
      "2019-04-10 00:00:00-04:00  115.783040   18.449333   46.986211  \n",
      "...                               ...         ...         ...  \n",
      "2024-03-28 00:00:00-04:00  121.250000  177.449997  900.000000  \n",
      "2024-04-01 00:00:00-04:00  122.059998  176.169998  902.989990  \n",
      "2024-04-02 00:00:00-04:00  120.220001  164.750000  884.479980  \n",
      "2024-04-03 00:00:00-04:00  122.269997  164.020004  884.840027  \n",
      "2024-04-04 00:00:00-04:00  119.220001  170.000000  904.059998  \n",
      "\n",
      "[1259 rows x 7 columns]\n"
     ]
    }
   ],
   "source": [
    "import yfinance as yf\n",
    "import numpy as np\n",
    "import pandas as pd\n",
    "\n",
    "# Define a list of ticker symbols for the top 7 companies\n",
    "ticker_symbols = [\"AAPL\", \"MSFT\", \"GOOGL\", \"AMZN\", \"DIS\", \"TSLA\", \"NVDA\"]\n",
    "\n",
    "# Initialize an empty list to store historical price data for each stock\n",
    "historical_prices = []\n",
    "\n",
    "# Define the alternative attribute to retrieve (e.g., Open, High, Low, Close, Volume)\n",
    "alternative_attribute = \"Open\"\n",
    "\n",
    "# Retrieve historical price data for each stock\n",
    "for symbol in ticker_symbols:\n",
    "    try:\n",
    "        # Initialize Ticker object for the current ticker symbol\n",
    "        ticker = yf.Ticker(symbol)\n",
    "        \n",
    "        # Retrieve historical price data for the stock (example: for the past 5 years)\n",
    "        historical_data = ticker.history(period=\"5y\")\n",
    "        \n",
    "        # Extract the alternative attribute and store it in the list\n",
    "        historical_prices.append(historical_data[alternative_attribute])\n",
    "        \n",
    "        print(f\"Retrieved data for {symbol}\")\n",
    "    except Exception as e:\n",
    "        print(f\"Failed to retrieve data for {symbol}: {e}\")\n",
    "\n",
    "# Combine historical price data into a single DataFrame\n",
    "prices_df = pd.concat(historical_prices, axis=1)\n",
    "prices_df.columns = ticker_symbols\n",
    "\n",
    "# Print the DataFrame\n",
    "print(prices_df)"
   ]
  },
  {
   "cell_type": "code",
   "execution_count": null,
   "id": "f7c63edb-d844-4773-8185-c3497aec2df2",
   "metadata": {},
   "outputs": [],
   "source": []
  }
 ],
 "metadata": {
  "kernelspec": {
   "display_name": "Python 3 (ipykernel)",
   "language": "python",
   "name": "python3"
  },
  "language_info": {
   "codemirror_mode": {
    "name": "ipython",
    "version": 3
   },
   "file_extension": ".py",
   "mimetype": "text/x-python",
   "name": "python",
   "nbconvert_exporter": "python",
   "pygments_lexer": "ipython3",
   "version": "3.12.2"
  }
 },
 "nbformat": 4,
 "nbformat_minor": 5
}
