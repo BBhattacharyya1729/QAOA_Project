{
 "cells": [
  {
   "cell_type": "code",
   "execution_count": 1,
   "id": "3138f386-5007-490c-8ed0-31a05211254f",
   "metadata": {},
   "outputs": [],
   "source": [
    "from qiskit_algorithms.optimizers import COBYLA\n",
    "from qiskit_finance.applications.optimization import PortfolioOptimization\n",
    "from qiskit_finance.data_providers import RandomDataProvider\n",
    "import numpy as np\n",
    "import matplotlib.pyplot as plt\n",
    "import datetime\n"
   ]
  },
  {
   "cell_type": "code",
   "execution_count": 2,
   "id": "73e135a2-38bc-4945-936d-4d431ea3a523",
   "metadata": {},
   "outputs": [],
   "source": [
    "# set number of assets (= number of qubits)\n",
    "num_assets = 10\n",
    "seed = 123\n",
    "\n",
    "# Generate expected return and covariance matrix from (random) time-series\n",
    "stocks = [(\"TICKER%s\" % i) for i in range(num_assets)]\n",
    "data = RandomDataProvider(\n",
    "    tickers=stocks,\n",
    "    start=datetime.datetime(2016, 1, 1),\n",
    "    end=datetime.datetime(2016, 1, 30),\n",
    "    seed=seed,\n",
    ")\n",
    "data.run()\n",
    "mu = data.get_period_return_mean_vector()\n",
    "sigma = data.get_period_return_covariance_matrix()\n",
    "B = 7\n",
    "c = .1\n",
    "sigma_mu=sigma- np.diag(mu)\n",
    "A= sigma_mu+np.diag([-2*B*c for i in range(num_assets)])+c*np.ones((num_assets,num_assets))"
   ]
  },
  {
   "cell_type": "code",
   "execution_count": 3,
   "id": "a0b5b3b4-48a5-4e47-ac55-5ebf872d6d30",
   "metadata": {},
   "outputs": [],
   "source": [
    "def cost(x):\n",
    "    return x.dot(A).dot(x)\n",
    "from qiskit.quantum_info import SparsePauliOp\n",
    "\n",
    "def indexedZ(i):\n",
    "    return SparsePauliOp((num_assets-i-1)*'I' + 'Z' + 'I'*(i))\n",
    "\n",
    "def indexedY(i):\n",
    "    return SparsePauliOp((num_assets-i-1)*'I' + 'Y' + 'I'*(i))\n",
    "\n",
    "def indexedX(i):\n",
    "    return SparsePauliOp((num_assets-i-1)*'I' + 'X' + 'I'*(i))"
   ]
  },
  {
   "cell_type": "code",
   "execution_count": 4,
   "id": "7c70aa23-fd99-4bae-ade7-981d75b07cbf",
   "metadata": {},
   "outputs": [
    {
     "data": {
      "text/plain": [
       "<qiskit.circuit.instructionset.InstructionSet at 0x20e45fa9870>"
      ]
     },
     "execution_count": 4,
     "metadata": {},
     "output_type": "execute_result"
    }
   ],
   "source": [
    "from qiskit import QuantumCircuit\n",
    "from functools import reduce\n",
    "from qiskit.circuit.library import PauliEvolutionGate\n",
    "from qiskit.circuit import Parameter\n",
    "H = 0 * SparsePauliOp('I' * num_assets)\n",
    "for i in range(num_assets):\n",
    "    for j in range(num_assets):\n",
    "        H+=1/4 * A[i][j]* SparsePauliOp('I' * num_assets)-1/2 *  A[i][j]* indexedZ(i)+1/4 * A[i][j] * indexedZ(i) @ indexedZ(j)\n",
    "H=H.simplify()\n",
    "\n",
    "\n",
    "H_mix = reduce(lambda a,b: a+b, [indexedX(i) for i in range(num_assets)])\n",
    "default_mixer = QuantumCircuit(num_assets)\n",
    "default_mixer.append( PauliEvolutionGate(H_mix, Parameter('t')), range(num_assets))\n"
   ]
  },
  {
   "cell_type": "code",
   "execution_count": 5,
   "id": "5452c967-2039-4837-8d23-416a316b38f9",
   "metadata": {
    "scrolled": true
   },
   "outputs": [],
   "source": [
    "from qiskit.circuit import ParameterVector\n",
    "def QAOA_Ansatz(cost,mixer,p=1,initial=None):\n",
    "    qc=QuantumCircuit(num_assets)\n",
    "    if(initial is None):\n",
    "        qc.h(range(num_assets))\n",
    "    else:\n",
    "        qc = initial.copy()\n",
    "    Gamma = ParameterVector('γ',p)\n",
    "    Beta = ParameterVector('β',p)\n",
    "    for i in range(p):\n",
    "        qc.append(PauliEvolutionGate(cost,Gamma[i]),range(num_assets))\n",
    "        qc.append(mixer.assign_parameters([Beta[i]]),range(num_assets))\n",
    "    return qc\n"
   ]
  },
  {
   "cell_type": "code",
   "execution_count": 6,
   "id": "f2790a9e-fc57-402f-a919-a777bf07642f",
   "metadata": {},
   "outputs": [],
   "source": [
    "import cvxpy as cp\n",
    "from scipy.linalg import sqrtm\n",
    "def GWcut(reps=1):\n",
    "    min = None\n",
    "    min_x = None\n",
    "\n",
    "    X=cp.Variable((num_assets,num_assets),PSD=True)\n",
    "    constraints = [X >> 0]\n",
    "    constraints += [\n",
    "        X[i,i] == 1 for i in range(num_assets)\n",
    "    ]\n",
    "    objective = cp.trace(-A @ X)\n",
    "    prob = cp.Problem(cp.Maximize(objective),constraints)\n",
    "    prob.solve()\n",
    "    x=sqrtm(X.value)\n",
    "    \n",
    "    for i in range(reps):\n",
    "\n",
    "        u = np.random.random(num_assets)\n",
    "        z=np.array(np.sign(x.real @ u)/2+1/2,dtype=int)\n",
    "        l=cost(z)\n",
    "        if(i==0):\n",
    "            min = l\n",
    "            min_x = z\n",
    "        else:\n",
    "            if(l<min):\n",
    "                min = l\n",
    "                min_x = z\n",
    "    return (min,min_x)"
   ]
  },
  {
   "cell_type": "code",
   "execution_count": 7,
   "id": "8ec8e219-c9dc-4560-9d12-a89b113962ca",
   "metadata": {},
   "outputs": [],
   "source": [
    "epsilon=0.25\n",
    "def WarmStartQAOA(initial,cost,p=1,modified=True):\n",
    "    \n",
    "    theta = [2*np.arcsin(np.sqrt(1-epsilon)),2*np.arcsin(np.sqrt(epsilon))]\n",
    "\n",
    "    init_qc= QuantumCircuit(num_assets)\n",
    "    mixer=QuantumCircuit(num_assets)\n",
    "\n",
    "    t = Parameter('t')\n",
    "    for i,v in enumerate(initial):\n",
    "        init_qc.ry(theta[v],i)\n",
    "        if(modified):\n",
    "            mixer.ry(theta[v],i)\n",
    "            mixer.rz(-2*t,i)\n",
    "            mixer.ry(-theta[v],i)\n",
    "        else:\n",
    "            mixer.ry(-theta[v],i)\n",
    "            mixer.rz(-2*t,i)\n",
    "            mixer.ry(theta[v],i)\n",
    "    return QAOA_Ansatz(cost=cost,mixer=mixer,p=p,initial=init_qc)\n",
    "\n"
   ]
  },
  {
   "cell_type": "code",
   "execution_count": 8,
   "id": "0f81216c-2c04-4020-8f4a-65e2a236fda1",
   "metadata": {},
   "outputs": [],
   "source": [
    "initial = (GWcut(100)[1])\n",
    "qaoa_ansatz = QAOA_Ansatz(H,default_mixer,p=1)\n",
    "modified_wsqaoa_ansatz = WarmStartQAOA(initial,H,p=1,modified=True)\n",
    "wsqaoa_ansatz = WarmStartQAOA(initial,H,p=1,modified=False) "
   ]
  },
  {
   "cell_type": "code",
   "execution_count": 9,
   "id": "1dfc4c0d-2c93-4e01-8063-c6ccc39fa1db",
   "metadata": {},
   "outputs": [],
   "source": [
    "qaoa_data = np.zeros((50,50))\n",
    "wsqaoa_data = np.zeros((50,50))\n",
    "modified_wsqaoa_data= np.zeros((50,50))"
   ]
  },
  {
   "cell_type": "code",
   "execution_count": 10,
   "id": "07fd3deb-96b3-40f7-a6d1-7cf89f24f706",
   "metadata": {},
   "outputs": [],
   "source": [
    "from qiskit.quantum_info import Statevector\n",
    "for i,x in enumerate(np.linspace(0,2*np.pi,50)):\n",
    "    for j,y in enumerate(np.linspace(0,2*np.pi,50)):\n",
    "        qaoa_data[i][j]=Statevector(qaoa_ansatz.assign_parameters([x,y])).expectation_value(H).real\n",
    "        wsqaoa_data[i][j]=Statevector(wsqaoa_ansatz.assign_parameters([x,y])).expectation_value(H).real\n",
    "        modified_wsqaoa_data[i][j]=Statevector(modified_wsqaoa_ansatz.assign_parameters([x,y])).expectation_value(H).real\n"
   ]
  },
  {
   "cell_type": "code",
   "execution_count": 11,
   "id": "46ed6149-7212-497c-aba0-413691e2d26e",
   "metadata": {},
   "outputs": [
    {
     "data": {
      "text/plain": [
       "<matplotlib.image.AxesImage at 0x20e4743b980>"
      ]
     },
     "execution_count": 11,
     "metadata": {},
     "output_type": "execute_result"
    },
    {
     "data": {
      "image/png": "[encoded data removed]",
      "text/plain": [
       "<Figure size 640x480 with 1 Axes>"
      ]
     },
     "metadata": {},
     "output_type": "display_data"
    }
   ],
   "source": [
    "import matplotlib.pyplot as plt\n",
    "plt.imshow(qaoa_data.T,origin='lower')"
   ]
  },
  {
   "cell_type": "code",
   "execution_count": 12,
   "id": "247ae5f8-df16-4dc5-bc93-7be49f5b1bb6",
   "metadata": {},
   "outputs": [
    {
     "data": {
      "text/plain": [
       "<matplotlib.image.AxesImage at 0x20e468d8710>"
      ]
     },
     "execution_count": 12,
     "metadata": {},
     "output_type": "execute_result"
    },
    {
     "data": {
      "image/png": "[encoded data removed]",
      "text/plain": [
       "<Figure size 640x480 with 1 Axes>"
      ]
     },
     "metadata": {},
     "output_type": "display_data"
    }
   ],
   "source": [
    "plt.imshow(wsqaoa_data.T,origin='lower')"
   ]
  },
  {
   "cell_type": "code",
   "execution_count": 13,
   "id": "f26d2d43-4215-4014-8672-235c35ef8e09",
   "metadata": {},
   "outputs": [
    {
     "data": {
      "text/plain": [
       "<matplotlib.image.AxesImage at 0x20e4774a810>"
      ]
     },
     "execution_count": 13,
     "metadata": {},
     "output_type": "execute_result"
    },
    {
     "data": {
      "image/png": "[encoded data removed]",
      "text/plain": [
       "<Figure size 640x480 with 1 Axes>"
      ]
     },
     "metadata": {},
     "output_type": "display_data"
    }
   ],
   "source": [
    "plt.imshow(modified_wsqaoa_data.T,origin='lower')"
   ]
  },
  {
   "cell_type": "code",
   "execution_count": 14,
   "id": "314d8b10-5842-493a-8bac-29380d362fe3",
   "metadata": {},
   "outputs": [
    {
     "data": {
      "text/plain": [
       "-4.799663793833991"
      ]
     },
     "execution_count": 14,
     "metadata": {},
     "output_type": "execute_result"
    }
   ],
   "source": [
    "np.min(qaoa_data)"
   ]
  },
  {
   "cell_type": "code",
   "execution_count": 15,
   "id": "97c2f5b6-0136-48f7-91f7-dedfa0f4ee93",
   "metadata": {},
   "outputs": [
    {
     "data": {
      "text/plain": [
       "-4.760879558601513"
      ]
     },
     "execution_count": 15,
     "metadata": {},
     "output_type": "execute_result"
    }
   ],
   "source": [
    "np.min(wsqaoa_data)"
   ]
  },
  {
   "cell_type": "code",
   "execution_count": 16,
   "id": "eddb6dac-ed87-4d47-b5e7-34cf7b2f6106",
   "metadata": {},
   "outputs": [
    {
     "data": {
      "text/plain": [
       "-4.858685609620228"
      ]
     },
     "execution_count": 16,
     "metadata": {},
     "output_type": "execute_result"
    }
   ],
   "source": [
    "np.min(modified_wsqaoa_data)"
   ]
  },
  {
   "cell_type": "code",
   "execution_count": 17,
   "id": "757ca551-2a1f-4539-9246-27c7e2a4c597",
   "metadata": {},
   "outputs": [
    {
     "data": {
      "text/plain": [
       "-4.859411435366528"
      ]
     },
     "execution_count": 17,
     "metadata": {},
     "output_type": "execute_result"
    }
   ],
   "source": [
    "initial = (GWcut(100)[1])\n",
    "cost(initial)"
   ]
  },
  {
   "cell_type": "code",
   "execution_count": 18,
   "id": "3d2e640d-c153-48c0-be6f-0c3ecce93510",
   "metadata": {},
   "outputs": [],
   "source": [
    "p_max = 8\n",
    "initial = (GWcut(100)[1])\n",
    "defualt_qaoa_ansatze = [QAOA_Ansatz(H,default_mixer,p=p) for p in range(1,p_max)]\n",
    "modified_wsqaoa_ansatze = [WarmStartQAOA(initial,H,p=p,modified=True) for p in range(1,p_max)]\n",
    "wsqaoa_ansatze = [WarmStartQAOA(initial,H,p=p,modified=False) for p in range(1,p_max)]\n",
    "\n",
    "from qiskit_algorithms.optimizers import COBYLA\n",
    "from qiskit.quantum_info import Statevector"
   ]
  },
  {
   "cell_type": "code",
   "execution_count": 19,
   "id": "0e7da294-2b79-4b96-98f7-40e7ec29e67b",
   "metadata": {},
   "outputs": [],
   "source": [
    "from qiskit_algorithms.optimizers import COBYLA,SPSA\n",
    "opt = SPSA(maxiter=1000)\n",
    "def minimize(ansatz_list,reps=5):\n",
    "    print(\"Starting Optimization\")\n",
    "    print(\"---------------------\")\n",
    "    cost_list = []\n",
    "    parameter_list = []\n",
    "    for n,a in enumerate(ansatz_list):\n",
    "        current_cost = []\n",
    "        current_params = []\n",
    "        for i in range(reps):\n",
    "            # if(n==0):\n",
    "            #     #init = np.random.random(2)*2*np.pi\n",
    "            # else:\n",
    "            #     #init = np.array(list(parameter_list[-1])+[0,0])\n",
    "            res = opt.minimize(lambda x: Statevector(a.assign_parameters(x)).expectation_value(H).real, x0=np.random.random(2*(n+1))*2*np.pi )\n",
    "            if(i==0):\n",
    "                current_cost = res.fun\n",
    "                current_params =res.x\n",
    "            elif(current_cost > res.fun):\n",
    "                current_cost = res.fun\n",
    "                current_params =res.x\n",
    "        cost_list.append(current_cost)\n",
    "        parameter_list.append(current_params)\n",
    "        print(n)\n",
    "    return cost_list,parameter_list\n",
    "                \n",
    "                "
   ]
  },
  {
   "cell_type": "code",
   "execution_count": 20,
   "id": "75255971-78d4-451c-ab9f-846fef4544e5",
   "metadata": {},
   "outputs": [
    {
     "name": "stdout",
     "output_type": "stream",
     "text": [
      "Starting Optimization\n",
      "---------------------\n",
      "0\n"
     ]
    },
    {
     "ename": "KeyboardInterrupt",
     "evalue": "",
     "output_type": "error",
     "traceback": [
      "\u001b[1;31m---------------------------------------------------------------------------\u001b[0m",
      "\u001b[1;31mKeyboardInterrupt\u001b[0m                         Traceback (most recent call last)",
      "Cell \u001b[1;32mIn[20], line 1\u001b[0m\n\u001b[1;32m----> 1\u001b[0m defualt_res\u001b[38;5;241m=\u001b[39mminimize(defualt_qaoa_ansatze)\n\u001b[0;32m      2\u001b[0m modified_ws_res \u001b[38;5;241m=\u001b[39m minimize(modified_wsqaoa_ansatze)\n\u001b[0;32m      3\u001b[0m ws_res\u001b[38;5;241m=\u001b[39mminimize(wsqaoa_ansatze)\n",
      "Cell \u001b[1;32mIn[19], line 16\u001b[0m, in \u001b[0;36mminimize\u001b[1;34m(ansatz_list, reps)\u001b[0m\n\u001b[0;32m     10\u001b[0m current_params \u001b[38;5;241m=\u001b[39m []\n\u001b[0;32m     11\u001b[0m \u001b[38;5;28;01mfor\u001b[39;00m i \u001b[38;5;129;01min\u001b[39;00m \u001b[38;5;28mrange\u001b[39m(reps):\n\u001b[0;32m     12\u001b[0m     \u001b[38;5;66;03m# if(n==0):\u001b[39;00m\n\u001b[0;32m     13\u001b[0m     \u001b[38;5;66;03m#     #init = np.random.random(2)*2*np.pi\u001b[39;00m\n\u001b[0;32m     14\u001b[0m     \u001b[38;5;66;03m# else:\u001b[39;00m\n\u001b[0;32m     15\u001b[0m     \u001b[38;5;66;03m#     #init = np.array(list(parameter_list[-1])+[0,0])\u001b[39;00m\n\u001b[1;32m---> 16\u001b[0m     res \u001b[38;5;241m=\u001b[39m opt\u001b[38;5;241m.\u001b[39mminimize(\u001b[38;5;28;01mlambda\u001b[39;00m x: Statevector(a\u001b[38;5;241m.\u001b[39massign_parameters(x))\u001b[38;5;241m.\u001b[39mexpectation_value(H)\u001b[38;5;241m.\u001b[39mreal, x0\u001b[38;5;241m=\u001b[39mnp\u001b[38;5;241m.\u001b[39mrandom\u001b[38;5;241m.\u001b[39mrandom(\u001b[38;5;241m2\u001b[39m\u001b[38;5;241m*\u001b[39m(n\u001b[38;5;241m+\u001b[39m\u001b[38;5;241m1\u001b[39m))\u001b[38;5;241m*\u001b[39m\u001b[38;5;241m2\u001b[39m\u001b[38;5;241m*\u001b[39mnp\u001b[38;5;241m.\u001b[39mpi )\n\u001b[0;32m     17\u001b[0m     \u001b[38;5;28;01mif\u001b[39;00m(i\u001b[38;5;241m==\u001b[39m\u001b[38;5;241m0\u001b[39m):\n\u001b[0;32m     18\u001b[0m         current_cost \u001b[38;5;241m=\u001b[39m res\u001b[38;5;241m.\u001b[39mfun\n",
      "File \u001b[1;32m~\\AppData\\Local\\anaconda3\\envs\\QAOA\\Lib\\site-packages\\qiskit_algorithms\\optimizers\\spsa.py:558\u001b[0m, in \u001b[0;36mSPSA.minimize\u001b[1;34m(self, fun, x0, jac, bounds)\u001b[0m\n\u001b[0;32m    556\u001b[0m iteration_start \u001b[38;5;241m=\u001b[39m time()\n\u001b[0;32m    557\u001b[0m \u001b[38;5;66;03m# compute update\u001b[39;00m\n\u001b[1;32m--> 558\u001b[0m fx_estimate, update \u001b[38;5;241m=\u001b[39m \u001b[38;5;28mself\u001b[39m\u001b[38;5;241m.\u001b[39m_compute_update(fun, x, k, \u001b[38;5;28mnext\u001b[39m(eps), lse_solver)\n\u001b[0;32m    560\u001b[0m \u001b[38;5;66;03m# trust region\u001b[39;00m\n\u001b[0;32m    561\u001b[0m \u001b[38;5;28;01mif\u001b[39;00m \u001b[38;5;28mself\u001b[39m\u001b[38;5;241m.\u001b[39mtrust_region:\n",
      "File \u001b[1;32m~\\AppData\\Local\\anaconda3\\envs\\QAOA\\Lib\\site-packages\\qiskit_algorithms\\optimizers\\spsa.py:489\u001b[0m, in \u001b[0;36mSPSA._compute_update\u001b[1;34m(self, loss, x, k, eps, lse_solver)\u001b[0m\n\u001b[0;32m    486\u001b[0m     num_samples \u001b[38;5;241m=\u001b[39m \u001b[38;5;28mself\u001b[39m\u001b[38;5;241m.\u001b[39mresamplings\n\u001b[0;32m    488\u001b[0m \u001b[38;5;66;03m# accumulate the number of samples\u001b[39;00m\n\u001b[1;32m--> 489\u001b[0m value, gradient, hessian \u001b[38;5;241m=\u001b[39m \u001b[38;5;28mself\u001b[39m\u001b[38;5;241m.\u001b[39m_point_estimate(loss, x, eps, num_samples)\n\u001b[0;32m    491\u001b[0m \u001b[38;5;66;03m# precondition gradient with inverse Hessian, if specified\u001b[39;00m\n\u001b[0;32m    492\u001b[0m \u001b[38;5;28;01mif\u001b[39;00m \u001b[38;5;28mself\u001b[39m\u001b[38;5;241m.\u001b[39msecond_order:\n",
      "File \u001b[1;32m~\\AppData\\Local\\anaconda3\\envs\\QAOA\\Lib\\site-packages\\qiskit_algorithms\\optimizers\\spsa.py:466\u001b[0m, in \u001b[0;36mSPSA._point_estimate\u001b[1;34m(self, loss, x, eps, num_samples)\u001b[0m\n\u001b[0;32m    463\u001b[0m delta1 \u001b[38;5;241m=\u001b[39m deltas1[i]\n\u001b[0;32m    464\u001b[0m delta2 \u001b[38;5;241m=\u001b[39m deltas2[i] \u001b[38;5;28;01mif\u001b[39;00m \u001b[38;5;28mself\u001b[39m\u001b[38;5;241m.\u001b[39msecond_order \u001b[38;5;28;01melse\u001b[39;00m \u001b[38;5;28;01mNone\u001b[39;00m\n\u001b[1;32m--> 466\u001b[0m value_sample, gradient_sample, hessian_sample \u001b[38;5;241m=\u001b[39m \u001b[38;5;28mself\u001b[39m\u001b[38;5;241m.\u001b[39m_point_sample(\n\u001b[0;32m    467\u001b[0m     loss, x, eps, delta1, delta2\n\u001b[0;32m    468\u001b[0m )\n\u001b[0;32m    469\u001b[0m value_estimate \u001b[38;5;241m+\u001b[39m\u001b[38;5;241m=\u001b[39m value_sample\n\u001b[0;32m    470\u001b[0m gradient_estimate \u001b[38;5;241m+\u001b[39m\u001b[38;5;241m=\u001b[39m gradient_sample\n",
      "File \u001b[1;32m~\\AppData\\Local\\anaconda3\\envs\\QAOA\\Lib\\site-packages\\qiskit_algorithms\\optimizers\\spsa.py:427\u001b[0m, in \u001b[0;36mSPSA._point_sample\u001b[1;34m(self, loss, x, eps, delta1, delta2)\u001b[0m\n\u001b[0;32m    424\u001b[0m     \u001b[38;5;28mself\u001b[39m\u001b[38;5;241m.\u001b[39m_nfev \u001b[38;5;241m+\u001b[39m\u001b[38;5;241m=\u001b[39m \u001b[38;5;241m2\u001b[39m\n\u001b[0;32m    426\u001b[0m \u001b[38;5;66;03m# batch evaluate the points (if possible)\u001b[39;00m\n\u001b[1;32m--> 427\u001b[0m values \u001b[38;5;241m=\u001b[39m _batch_evaluate(loss, points, \u001b[38;5;28mself\u001b[39m\u001b[38;5;241m.\u001b[39m_max_evals_grouped)\n\u001b[0;32m    429\u001b[0m plus \u001b[38;5;241m=\u001b[39m values[\u001b[38;5;241m0\u001b[39m]\n\u001b[0;32m    430\u001b[0m minus \u001b[38;5;241m=\u001b[39m values[\u001b[38;5;241m1\u001b[39m]\n",
      "File \u001b[1;32m~\\AppData\\Local\\anaconda3\\envs\\QAOA\\Lib\\site-packages\\qiskit_algorithms\\optimizers\\spsa.py:694\u001b[0m, in \u001b[0;36m_batch_evaluate\u001b[1;34m(function, points, max_evals_grouped, unpack_points)\u001b[0m\n\u001b[0;32m    690\u001b[0m \u001b[38;5;66;03m# if the function cannot handle lists of points as input, cover this case immediately\u001b[39;00m\n\u001b[0;32m    691\u001b[0m \u001b[38;5;28;01mif\u001b[39;00m max_evals_grouped \u001b[38;5;129;01mis\u001b[39;00m \u001b[38;5;28;01mNone\u001b[39;00m \u001b[38;5;129;01mor\u001b[39;00m max_evals_grouped \u001b[38;5;241m==\u001b[39m \u001b[38;5;241m1\u001b[39m:\n\u001b[0;32m    692\u001b[0m     \u001b[38;5;66;03m# support functions with multiple arguments where the points are given in a tuple\u001b[39;00m\n\u001b[0;32m    693\u001b[0m     \u001b[38;5;28;01mreturn\u001b[39;00m [\n\u001b[1;32m--> 694\u001b[0m         function(\u001b[38;5;241m*\u001b[39mpoint) \u001b[38;5;28;01mif\u001b[39;00m \u001b[38;5;28misinstance\u001b[39m(point, \u001b[38;5;28mtuple\u001b[39m) \u001b[38;5;28;01melse\u001b[39;00m function(point) \u001b[38;5;28;01mfor\u001b[39;00m point \u001b[38;5;129;01min\u001b[39;00m points\n\u001b[0;32m    695\u001b[0m     ]\n\u001b[0;32m    697\u001b[0m num_points \u001b[38;5;241m=\u001b[39m \u001b[38;5;28mlen\u001b[39m(points)\n\u001b[0;32m    699\u001b[0m \u001b[38;5;66;03m# get the number of batches\u001b[39;00m\n",
      "Cell \u001b[1;32mIn[19], line 16\u001b[0m, in \u001b[0;36mminimize.<locals>.<lambda>\u001b[1;34m(x)\u001b[0m\n\u001b[0;32m     10\u001b[0m current_params \u001b[38;5;241m=\u001b[39m []\n\u001b[0;32m     11\u001b[0m \u001b[38;5;28;01mfor\u001b[39;00m i \u001b[38;5;129;01min\u001b[39;00m \u001b[38;5;28mrange\u001b[39m(reps):\n\u001b[0;32m     12\u001b[0m     \u001b[38;5;66;03m# if(n==0):\u001b[39;00m\n\u001b[0;32m     13\u001b[0m     \u001b[38;5;66;03m#     #init = np.random.random(2)*2*np.pi\u001b[39;00m\n\u001b[0;32m     14\u001b[0m     \u001b[38;5;66;03m# else:\u001b[39;00m\n\u001b[0;32m     15\u001b[0m     \u001b[38;5;66;03m#     #init = np.array(list(parameter_list[-1])+[0,0])\u001b[39;00m\n\u001b[1;32m---> 16\u001b[0m     res \u001b[38;5;241m=\u001b[39m opt\u001b[38;5;241m.\u001b[39mminimize(\u001b[38;5;28;01mlambda\u001b[39;00m x: Statevector(a\u001b[38;5;241m.\u001b[39massign_parameters(x))\u001b[38;5;241m.\u001b[39mexpectation_value(H)\u001b[38;5;241m.\u001b[39mreal, x0\u001b[38;5;241m=\u001b[39mnp\u001b[38;5;241m.\u001b[39mrandom\u001b[38;5;241m.\u001b[39mrandom(\u001b[38;5;241m2\u001b[39m\u001b[38;5;241m*\u001b[39m(n\u001b[38;5;241m+\u001b[39m\u001b[38;5;241m1\u001b[39m))\u001b[38;5;241m*\u001b[39m\u001b[38;5;241m2\u001b[39m\u001b[38;5;241m*\u001b[39mnp\u001b[38;5;241m.\u001b[39mpi )\n\u001b[0;32m     17\u001b[0m     \u001b[38;5;28;01mif\u001b[39;00m(i\u001b[38;5;241m==\u001b[39m\u001b[38;5;241m0\u001b[39m):\n\u001b[0;32m     18\u001b[0m         current_cost \u001b[38;5;241m=\u001b[39m res\u001b[38;5;241m.\u001b[39mfun\n",
      "File \u001b[1;32m~\\AppData\\Local\\anaconda3\\envs\\QAOA\\Lib\\site-packages\\qiskit\\quantum_info\\states\\statevector.py:91\u001b[0m, in \u001b[0;36mStatevector.__init__\u001b[1;34m(self, data, dims)\u001b[0m\n\u001b[0;32m     89\u001b[0m     \u001b[38;5;28mself\u001b[39m\u001b[38;5;241m.\u001b[39m_data \u001b[38;5;241m=\u001b[39m np\u001b[38;5;241m.\u001b[39mravel(data\u001b[38;5;241m.\u001b[39mdata)\n\u001b[0;32m     90\u001b[0m \u001b[38;5;28;01melif\u001b[39;00m \u001b[38;5;28misinstance\u001b[39m(data, (QuantumCircuit, Instruction)):\n\u001b[1;32m---> 91\u001b[0m     \u001b[38;5;28mself\u001b[39m\u001b[38;5;241m.\u001b[39m_data \u001b[38;5;241m=\u001b[39m Statevector\u001b[38;5;241m.\u001b[39mfrom_instruction(data)\u001b[38;5;241m.\u001b[39mdata\n\u001b[0;32m     92\u001b[0m \u001b[38;5;28;01melse\u001b[39;00m:\n\u001b[0;32m     93\u001b[0m     \u001b[38;5;28;01mraise\u001b[39;00m QiskitError(\u001b[38;5;124m\"\u001b[39m\u001b[38;5;124mInvalid input data format for Statevector\u001b[39m\u001b[38;5;124m\"\u001b[39m)\n",
      "File \u001b[1;32m~\\AppData\\Local\\anaconda3\\envs\\QAOA\\Lib\\site-packages\\qiskit\\quantum_info\\states\\statevector.py:768\u001b[0m, in \u001b[0;36mStatevector.from_instruction\u001b[1;34m(cls, instruction)\u001b[0m\n\u001b[0;32m    766\u001b[0m init[\u001b[38;5;241m0\u001b[39m] \u001b[38;5;241m=\u001b[39m \u001b[38;5;241m1.0\u001b[39m\n\u001b[0;32m    767\u001b[0m vec \u001b[38;5;241m=\u001b[39m Statevector(init, dims\u001b[38;5;241m=\u001b[39minstruction\u001b[38;5;241m.\u001b[39mnum_qubits \u001b[38;5;241m*\u001b[39m (\u001b[38;5;241m2\u001b[39m,))\n\u001b[1;32m--> 768\u001b[0m \u001b[38;5;28;01mreturn\u001b[39;00m Statevector\u001b[38;5;241m.\u001b[39m_evolve_instruction(vec, instruction)\n",
      "File \u001b[1;32m~\\AppData\\Local\\anaconda3\\envs\\QAOA\\Lib\\site-packages\\qiskit\\quantum_info\\states\\statevector.py:960\u001b[0m, in \u001b[0;36mStatevector._evolve_instruction\u001b[1;34m(statevec, obj, qargs)\u001b[0m\n\u001b[0;32m    958\u001b[0m     \u001b[38;5;28;01melse\u001b[39;00m:\n\u001b[0;32m    959\u001b[0m         new_qargs \u001b[38;5;241m=\u001b[39m [qargs[qubits[tup]] \u001b[38;5;28;01mfor\u001b[39;00m tup \u001b[38;5;129;01min\u001b[39;00m instruction\u001b[38;5;241m.\u001b[39mqubits]\n\u001b[1;32m--> 960\u001b[0m     Statevector\u001b[38;5;241m.\u001b[39m_evolve_instruction(statevec, instruction\u001b[38;5;241m.\u001b[39moperation, qargs\u001b[38;5;241m=\u001b[39mnew_qargs)\n\u001b[0;32m    961\u001b[0m \u001b[38;5;28;01mreturn\u001b[39;00m statevec\n",
      "File \u001b[1;32m~\\AppData\\Local\\anaconda3\\envs\\QAOA\\Lib\\site-packages\\qiskit\\quantum_info\\states\\statevector.py:938\u001b[0m, in \u001b[0;36mStatevector._evolve_instruction\u001b[1;34m(statevec, obj, qargs)\u001b[0m\n\u001b[0;32m    933\u001b[0m     \u001b[38;5;28;01mreturn\u001b[39;00m statevec\n\u001b[0;32m    935\u001b[0m \u001b[38;5;66;03m# If the instruction doesn't have a matrix defined we use its\u001b[39;00m\n\u001b[0;32m    936\u001b[0m \u001b[38;5;66;03m# circuit decomposition definition if it exists, otherwise we\u001b[39;00m\n\u001b[0;32m    937\u001b[0m \u001b[38;5;66;03m# cannot compose this gate and raise an error.\u001b[39;00m\n\u001b[1;32m--> 938\u001b[0m \u001b[38;5;28;01mif\u001b[39;00m obj\u001b[38;5;241m.\u001b[39mdefinition \u001b[38;5;129;01mis\u001b[39;00m \u001b[38;5;28;01mNone\u001b[39;00m:\n\u001b[0;32m    939\u001b[0m     \u001b[38;5;28;01mraise\u001b[39;00m QiskitError(\u001b[38;5;124mf\u001b[39m\u001b[38;5;124m\"\u001b[39m\u001b[38;5;124mCannot apply Instruction: \u001b[39m\u001b[38;5;132;01m{\u001b[39;00mobj\u001b[38;5;241m.\u001b[39mname\u001b[38;5;132;01m}\u001b[39;00m\u001b[38;5;124m\"\u001b[39m)\n\u001b[0;32m    940\u001b[0m \u001b[38;5;28;01mif\u001b[39;00m \u001b[38;5;129;01mnot\u001b[39;00m \u001b[38;5;28misinstance\u001b[39m(obj\u001b[38;5;241m.\u001b[39mdefinition, QuantumCircuit):\n",
      "File \u001b[1;32m~\\AppData\\Local\\anaconda3\\envs\\QAOA\\Lib\\site-packages\\qiskit\\circuit\\instruction.py:303\u001b[0m, in \u001b[0;36mInstruction.definition\u001b[1;34m(self)\u001b[0m\n\u001b[0;32m    301\u001b[0m \u001b[38;5;250m\u001b[39m\u001b[38;5;124;03m\"\"\"Return definition in terms of other basic gates.\"\"\"\u001b[39;00m\n\u001b[0;32m    302\u001b[0m \u001b[38;5;28;01mif\u001b[39;00m \u001b[38;5;28mself\u001b[39m\u001b[38;5;241m.\u001b[39m_definition \u001b[38;5;129;01mis\u001b[39;00m \u001b[38;5;28;01mNone\u001b[39;00m:\n\u001b[1;32m--> 303\u001b[0m     \u001b[38;5;28mself\u001b[39m\u001b[38;5;241m.\u001b[39m_define()\n\u001b[0;32m    304\u001b[0m \u001b[38;5;28;01mreturn\u001b[39;00m \u001b[38;5;28mself\u001b[39m\u001b[38;5;241m.\u001b[39m_definition\n",
      "File \u001b[1;32m~\\AppData\\Local\\anaconda3\\envs\\QAOA\\Lib\\site-packages\\qiskit\\circuit\\library\\pauli_evolution.py:140\u001b[0m, in \u001b[0;36mPauliEvolutionGate._define\u001b[1;34m(self)\u001b[0m\n\u001b[0;32m    138\u001b[0m \u001b[38;5;28;01mdef\u001b[39;00m \u001b[38;5;21m_define\u001b[39m(\u001b[38;5;28mself\u001b[39m):\n\u001b[0;32m    139\u001b[0m \u001b[38;5;250m    \u001b[39m\u001b[38;5;124;03m\"\"\"Unroll, where the default synthesis is matrix based.\"\"\"\u001b[39;00m\n\u001b[1;32m--> 140\u001b[0m     \u001b[38;5;28mself\u001b[39m\u001b[38;5;241m.\u001b[39mdefinition \u001b[38;5;241m=\u001b[39m \u001b[38;5;28mself\u001b[39m\u001b[38;5;241m.\u001b[39msynthesis\u001b[38;5;241m.\u001b[39msynthesize(\u001b[38;5;28mself\u001b[39m)\n",
      "File \u001b[1;32m~\\AppData\\Local\\anaconda3\\envs\\QAOA\\Lib\\site-packages\\qiskit\\synthesis\\evolution\\lie_trotter.py:98\u001b[0m, in \u001b[0;36mLieTrotter.synthesize\u001b[1;34m(self, evolution)\u001b[0m\n\u001b[0;32m     95\u001b[0m         \u001b[38;5;28;01melse\u001b[39;00m:\n\u001b[0;32m     96\u001b[0m             first_barrier \u001b[38;5;241m=\u001b[39m \u001b[38;5;28;01mTrue\u001b[39;00m\n\u001b[1;32m---> 98\u001b[0m         evolution_circuit\u001b[38;5;241m.\u001b[39mcompose(\n\u001b[0;32m     99\u001b[0m             \u001b[38;5;28mself\u001b[39m\u001b[38;5;241m.\u001b[39matomic_evolution(op, coeff \u001b[38;5;241m*\u001b[39m time \u001b[38;5;241m/\u001b[39m \u001b[38;5;28mself\u001b[39m\u001b[38;5;241m.\u001b[39mreps), wrap\u001b[38;5;241m=\u001b[39mwrap, inplace\u001b[38;5;241m=\u001b[39m\u001b[38;5;28;01mTrue\u001b[39;00m\n\u001b[0;32m    100\u001b[0m         )\n\u001b[0;32m    102\u001b[0m \u001b[38;5;28;01mreturn\u001b[39;00m evolution_circuit\n",
      "File \u001b[1;32m~\\AppData\\Local\\anaconda3\\envs\\QAOA\\Lib\\site-packages\\qiskit\\circuit\\quantumcircuit.py:920\u001b[0m, in \u001b[0;36mQuantumCircuit.compose\u001b[1;34m(self, other, qubits, clbits, front, inplace, wrap)\u001b[0m\n\u001b[0;32m    916\u001b[0m             dest\u001b[38;5;241m.\u001b[39madd_register(reg)\n\u001b[0;32m    918\u001b[0m \u001b[38;5;28;01mif\u001b[39;00m wrap \u001b[38;5;129;01mand\u001b[39;00m \u001b[38;5;28misinstance\u001b[39m(other, QuantumCircuit):\n\u001b[0;32m    919\u001b[0m     other \u001b[38;5;241m=\u001b[39m (\n\u001b[1;32m--> 920\u001b[0m         other\u001b[38;5;241m.\u001b[39mto_gate()\n\u001b[0;32m    921\u001b[0m         \u001b[38;5;28;01mif\u001b[39;00m \u001b[38;5;28mall\u001b[39m(\u001b[38;5;28misinstance\u001b[39m(ins\u001b[38;5;241m.\u001b[39moperation, Gate) \u001b[38;5;28;01mfor\u001b[39;00m ins \u001b[38;5;129;01min\u001b[39;00m other\u001b[38;5;241m.\u001b[39mdata)\n\u001b[0;32m    922\u001b[0m         \u001b[38;5;28;01melse\u001b[39;00m other\u001b[38;5;241m.\u001b[39mto_instruction()\n\u001b[0;32m    923\u001b[0m     )\n\u001b[0;32m    925\u001b[0m \u001b[38;5;28;01mif\u001b[39;00m \u001b[38;5;129;01mnot\u001b[39;00m \u001b[38;5;28misinstance\u001b[39m(other, QuantumCircuit):\n\u001b[0;32m    926\u001b[0m     \u001b[38;5;28;01mif\u001b[39;00m qubits \u001b[38;5;129;01mis\u001b[39;00m \u001b[38;5;28;01mNone\u001b[39;00m:\n",
      "File \u001b[1;32m~\\AppData\\Local\\anaconda3\\envs\\QAOA\\Lib\\site-packages\\qiskit\\circuit\\quantumcircuit.py:1618\u001b[0m, in \u001b[0;36mQuantumCircuit.to_gate\u001b[1;34m(self, parameter_map, label)\u001b[0m\n\u001b[0;32m   1603\u001b[0m \u001b[38;5;250m\u001b[39m\u001b[38;5;124;03m\"\"\"Create a Gate out of this circuit.\u001b[39;00m\n\u001b[0;32m   1604\u001b[0m \n\u001b[0;32m   1605\u001b[0m \u001b[38;5;124;03mArgs:\u001b[39;00m\n\u001b[1;32m   (...)\u001b[0m\n\u001b[0;32m   1614\u001b[0m \u001b[38;5;124;03m    (can be decomposed back)\u001b[39;00m\n\u001b[0;32m   1615\u001b[0m \u001b[38;5;124;03m\"\"\"\u001b[39;00m\n\u001b[0;32m   1616\u001b[0m \u001b[38;5;28;01mfrom\u001b[39;00m \u001b[38;5;21;01mqiskit\u001b[39;00m\u001b[38;5;21;01m.\u001b[39;00m\u001b[38;5;21;01mconverters\u001b[39;00m\u001b[38;5;21;01m.\u001b[39;00m\u001b[38;5;21;01mcircuit_to_gate\u001b[39;00m \u001b[38;5;28;01mimport\u001b[39;00m circuit_to_gate\n\u001b[1;32m-> 1618\u001b[0m \u001b[38;5;28;01mreturn\u001b[39;00m circuit_to_gate(\u001b[38;5;28mself\u001b[39m, parameter_map, label\u001b[38;5;241m=\u001b[39mlabel)\n",
      "File \u001b[1;32m~\\AppData\\Local\\anaconda3\\envs\\QAOA\\Lib\\site-packages\\qiskit\\converters\\circuit_to_gate.py:92\u001b[0m, in \u001b[0;36mcircuit_to_gate\u001b[1;34m(circuit, parameter_map, equivalence_library, label)\u001b[0m\n\u001b[0;32m     84\u001b[0m gate \u001b[38;5;241m=\u001b[39m Gate(\n\u001b[0;32m     85\u001b[0m     name\u001b[38;5;241m=\u001b[39mcircuit\u001b[38;5;241m.\u001b[39mname,\n\u001b[0;32m     86\u001b[0m     num_qubits\u001b[38;5;241m=\u001b[39mcircuit\u001b[38;5;241m.\u001b[39mnum_qubits,\n\u001b[0;32m     87\u001b[0m     params\u001b[38;5;241m=\u001b[39m[\u001b[38;5;241m*\u001b[39mparameter_dict\u001b[38;5;241m.\u001b[39mvalues()],\n\u001b[0;32m     88\u001b[0m     label\u001b[38;5;241m=\u001b[39mlabel,\n\u001b[0;32m     89\u001b[0m )\n\u001b[0;32m     90\u001b[0m gate\u001b[38;5;241m.\u001b[39mcondition \u001b[38;5;241m=\u001b[39m \u001b[38;5;28;01mNone\u001b[39;00m\n\u001b[1;32m---> 92\u001b[0m target \u001b[38;5;241m=\u001b[39m circuit\u001b[38;5;241m.\u001b[39massign_parameters(parameter_dict, inplace\u001b[38;5;241m=\u001b[39m\u001b[38;5;28;01mFalse\u001b[39;00m)\n\u001b[0;32m     94\u001b[0m \u001b[38;5;28;01mif\u001b[39;00m equivalence_library \u001b[38;5;129;01mis\u001b[39;00m \u001b[38;5;129;01mnot\u001b[39;00m \u001b[38;5;28;01mNone\u001b[39;00m:\n\u001b[0;32m     95\u001b[0m     equivalence_library\u001b[38;5;241m.\u001b[39madd_equivalence(gate, target)\n",
      "File \u001b[1;32m~\\AppData\\Local\\anaconda3\\envs\\QAOA\\Lib\\site-packages\\qiskit\\circuit\\quantumcircuit.py:2680\u001b[0m, in \u001b[0;36mQuantumCircuit.assign_parameters\u001b[1;34m(self, parameters, inplace, flat_input, strict)\u001b[0m\n\u001b[0;32m   2678\u001b[0m     target \u001b[38;5;241m=\u001b[39m \u001b[38;5;28mself\u001b[39m\n\u001b[0;32m   2679\u001b[0m \u001b[38;5;28;01melse\u001b[39;00m:\n\u001b[1;32m-> 2680\u001b[0m     target \u001b[38;5;241m=\u001b[39m \u001b[38;5;28mself\u001b[39m\u001b[38;5;241m.\u001b[39mcopy()\n\u001b[0;32m   2681\u001b[0m     target\u001b[38;5;241m.\u001b[39m_increment_instances()\n\u001b[0;32m   2682\u001b[0m     target\u001b[38;5;241m.\u001b[39m_name_update()\n",
      "File \u001b[1;32m~\\AppData\\Local\\anaconda3\\envs\\QAOA\\Lib\\site-packages\\qiskit\\circuit\\quantumcircuit.py:2076\u001b[0m, in \u001b[0;36mQuantumCircuit.copy\u001b[1;34m(self, name)\u001b[0m\n\u001b[0;32m   2067\u001b[0m \u001b[38;5;28;01mdef\u001b[39;00m \u001b[38;5;21mcopy\u001b[39m(\u001b[38;5;28mself\u001b[39m, name: \u001b[38;5;28mstr\u001b[39m \u001b[38;5;241m|\u001b[39m \u001b[38;5;28;01mNone\u001b[39;00m \u001b[38;5;241m=\u001b[39m \u001b[38;5;28;01mNone\u001b[39;00m) \u001b[38;5;241m-\u001b[39m\u001b[38;5;241m>\u001b[39m \u001b[38;5;124m\"\u001b[39m\u001b[38;5;124mQuantumCircuit\u001b[39m\u001b[38;5;124m\"\u001b[39m:\n\u001b[0;32m   2068\u001b[0m \u001b[38;5;250m    \u001b[39m\u001b[38;5;124;03m\"\"\"Copy the circuit.\u001b[39;00m\n\u001b[0;32m   2069\u001b[0m \n\u001b[0;32m   2070\u001b[0m \u001b[38;5;124;03m    Args:\u001b[39;00m\n\u001b[1;32m   (...)\u001b[0m\n\u001b[0;32m   2074\u001b[0m \u001b[38;5;124;03m      QuantumCircuit: a deepcopy of the current circuit, with the specified name\u001b[39;00m\n\u001b[0;32m   2075\u001b[0m \u001b[38;5;124;03m    \"\"\"\u001b[39;00m\n\u001b[1;32m-> 2076\u001b[0m     cpy \u001b[38;5;241m=\u001b[39m \u001b[38;5;28mself\u001b[39m\u001b[38;5;241m.\u001b[39mcopy_empty_like(name)\n\u001b[0;32m   2077\u001b[0m     cpy\u001b[38;5;241m.\u001b[39m_data \u001b[38;5;241m=\u001b[39m \u001b[38;5;28mself\u001b[39m\u001b[38;5;241m.\u001b[39m_data\u001b[38;5;241m.\u001b[39mcopy()\n\u001b[0;32m   2079\u001b[0m     \u001b[38;5;66;03m# The special global-phase sentinel doesn't need copying, but it's\u001b[39;00m\n\u001b[0;32m   2080\u001b[0m     \u001b[38;5;66;03m# added here to ensure it's recognised. The global phase itself was\u001b[39;00m\n\u001b[0;32m   2081\u001b[0m     \u001b[38;5;66;03m# already copied over in `copy_empty_like`.\u001b[39;00m\n",
      "File \u001b[1;32m~\\AppData\\Local\\anaconda3\\envs\\QAOA\\Lib\\site-packages\\qiskit\\circuit\\quantumcircuit.py:2121\u001b[0m, in \u001b[0;36mQuantumCircuit.copy_empty_like\u001b[1;34m(self, name)\u001b[0m\n\u001b[0;32m   2117\u001b[0m \u001b[38;5;28;01mif\u001b[39;00m \u001b[38;5;129;01mnot\u001b[39;00m (name \u001b[38;5;129;01mis\u001b[39;00m \u001b[38;5;28;01mNone\u001b[39;00m \u001b[38;5;129;01mor\u001b[39;00m \u001b[38;5;28misinstance\u001b[39m(name, \u001b[38;5;28mstr\u001b[39m)):\n\u001b[0;32m   2118\u001b[0m     \u001b[38;5;28;01mraise\u001b[39;00m \u001b[38;5;167;01mTypeError\u001b[39;00m(\n\u001b[0;32m   2119\u001b[0m         \u001b[38;5;124mf\u001b[39m\u001b[38;5;124m\"\u001b[39m\u001b[38;5;124minvalid name for a circuit: \u001b[39m\u001b[38;5;124m'\u001b[39m\u001b[38;5;132;01m{\u001b[39;00mname\u001b[38;5;132;01m}\u001b[39;00m\u001b[38;5;124m'\u001b[39m\u001b[38;5;124m. The name must be a string or \u001b[39m\u001b[38;5;124m'\u001b[39m\u001b[38;5;124mNone\u001b[39m\u001b[38;5;124m'\u001b[39m\u001b[38;5;124m.\u001b[39m\u001b[38;5;124m\"\u001b[39m\n\u001b[0;32m   2120\u001b[0m     )\n\u001b[1;32m-> 2121\u001b[0m cpy \u001b[38;5;241m=\u001b[39m copy\u001b[38;5;241m.\u001b[39mcopy(\u001b[38;5;28mself\u001b[39m)\n\u001b[0;32m   2122\u001b[0m \u001b[38;5;66;03m# copy registers correctly, in copy.copy they are only copied via reference\u001b[39;00m\n\u001b[0;32m   2123\u001b[0m cpy\u001b[38;5;241m.\u001b[39mqregs \u001b[38;5;241m=\u001b[39m \u001b[38;5;28mself\u001b[39m\u001b[38;5;241m.\u001b[39mqregs\u001b[38;5;241m.\u001b[39mcopy()\n",
      "File \u001b[1;32m~\\AppData\\Local\\anaconda3\\envs\\QAOA\\Lib\\copy.py:97\u001b[0m, in \u001b[0;36mcopy\u001b[1;34m(x)\u001b[0m\n\u001b[0;32m     95\u001b[0m \u001b[38;5;28;01mif\u001b[39;00m \u001b[38;5;28misinstance\u001b[39m(rv, \u001b[38;5;28mstr\u001b[39m):\n\u001b[0;32m     96\u001b[0m     \u001b[38;5;28;01mreturn\u001b[39;00m x\n\u001b[1;32m---> 97\u001b[0m \u001b[38;5;28;01mreturn\u001b[39;00m _reconstruct(x, \u001b[38;5;28;01mNone\u001b[39;00m, \u001b[38;5;241m*\u001b[39mrv)\n",
      "File \u001b[1;32m~\\AppData\\Local\\anaconda3\\envs\\QAOA\\Lib\\copy.py:253\u001b[0m, in \u001b[0;36m_reconstruct\u001b[1;34m(x, memo, func, args, state, listiter, dictiter, deepcopy)\u001b[0m\n\u001b[0;32m    251\u001b[0m \u001b[38;5;28;01mif\u001b[39;00m deep \u001b[38;5;129;01mand\u001b[39;00m args:\n\u001b[0;32m    252\u001b[0m     args \u001b[38;5;241m=\u001b[39m (deepcopy(arg, memo) \u001b[38;5;28;01mfor\u001b[39;00m arg \u001b[38;5;129;01min\u001b[39;00m args)\n\u001b[1;32m--> 253\u001b[0m y \u001b[38;5;241m=\u001b[39m func(\u001b[38;5;241m*\u001b[39margs)\n\u001b[0;32m    254\u001b[0m \u001b[38;5;28;01mif\u001b[39;00m deep:\n\u001b[0;32m    255\u001b[0m     memo[\u001b[38;5;28mid\u001b[39m(x)] \u001b[38;5;241m=\u001b[39m y\n",
      "File \u001b[1;32m~\\AppData\\Local\\anaconda3\\envs\\QAOA\\Lib\\copyreg.py:98\u001b[0m, in \u001b[0;36m__newobj__\u001b[1;34m(cls, *args)\u001b[0m\n\u001b[0;32m     94\u001b[0m         \u001b[38;5;28;01mreturn\u001b[39;00m _reconstructor, args\n\u001b[0;32m     96\u001b[0m \u001b[38;5;66;03m# Helper for __reduce_ex__ protocol 2\u001b[39;00m\n\u001b[1;32m---> 98\u001b[0m \u001b[38;5;28;01mdef\u001b[39;00m \u001b[38;5;21m__newobj__\u001b[39m(\u001b[38;5;28mcls\u001b[39m, \u001b[38;5;241m*\u001b[39margs):\n\u001b[0;32m     99\u001b[0m     \u001b[38;5;28;01mreturn\u001b[39;00m \u001b[38;5;28mcls\u001b[39m\u001b[38;5;241m.\u001b[39m\u001b[38;5;21m__new__\u001b[39m(\u001b[38;5;28mcls\u001b[39m, \u001b[38;5;241m*\u001b[39margs)\n\u001b[0;32m    101\u001b[0m \u001b[38;5;28;01mdef\u001b[39;00m \u001b[38;5;21m__newobj_ex__\u001b[39m(\u001b[38;5;28mcls\u001b[39m, args, kwargs):\n",
      "\u001b[1;31mKeyboardInterrupt\u001b[0m: "
     ]
    }
   ],
   "source": [
    "defualt_res=minimize(defualt_qaoa_ansatze)\n",
    "modified_ws_res = minimize(modified_wsqaoa_ansatze)\n",
    "ws_res=minimize(wsqaoa_ansatze)"
   ]
  },
  {
   "cell_type": "code",
   "execution_count": null,
   "id": "82658686-4b0e-437e-80b4-8c4ac4b53470",
   "metadata": {},
   "outputs": [],
   "source": [
    "plt.plot(defualt_res[0],label='default')\n",
    "plt.plot(modified_ws_res[0],label='modws')\n",
    "plt.plot(ws_res[0],label='ws')\n",
    "plt.legend()\n",
    "plt.plot(np.vstack([np.linalg.eigvalsh(H)[0].real for i in range(1,p_max)]))"
   ]
  }
 ],
 "metadata": {
  "kernelspec": {
   "display_name": "Python 3 (ipykernel)",
   "language": "python",
   "name": "python3"
  },
  "language_info": {
   "codemirror_mode": {
    "name": "ipython",
    "version": 3
   },
   "file_extension": ".py",
   "mimetype": "text/x-python",
   "name": "python",
   "nbconvert_exporter": "python",
   "pygments_lexer": "ipython3",
   "version": "3.12.2"
  }
 },
 "nbformat": 4,
 "nbformat_minor": 5
}
