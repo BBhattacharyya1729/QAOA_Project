{
 "cells": [
  {
   "cell_type": "code",
   "execution_count": 1,
   "id": "3138f386-5007-490c-8ed0-31a05211254f",
   "metadata": {},
   "outputs": [],
   "source": [
    "from qiskit_algorithms.optimizers import COBYLA\n",
    "from qiskit_finance.applications.optimization import PortfolioOptimization\n",
    "from qiskit_finance.data_providers import RandomDataProvider\n",
    "import numpy as np\n",
    "import matplotlib.pyplot as plt\n",
    "import datetime\n"
   ]
  },
  {
   "cell_type": "code",
   "execution_count": 25,
   "id": "73e135a2-38bc-4945-936d-4d431ea3a523",
   "metadata": {},
   "outputs": [],
   "source": [
    "# set number of assets (= number of qubits)\n",
    "num_assets = 10\n",
    "seed = 123\n",
    "\n",
    "# Generate expected return and covariance matrix from (random) time-series\n",
    "stocks = [(\"TICKER%s\" % i) for i in range(num_assets)]\n",
    "data = RandomDataProvider(\n",
    "    tickers=stocks,\n",
    "    start=datetime.datetime(2016, 1, 1),\n",
    "    end=datetime.datetime(2016, 1, 30),\n",
    "    seed=seed,\n",
    ")\n",
    "data.run()\n",
    "mu = data.get_period_return_mean_vector()\n",
    "sigma = data.get_period_return_covariance_matrix()\n",
    "B = 7\n",
    "c = 0.1\n",
    "sigma_mu=sigma- np.diag(mu)\n",
    "A=sigma_mu+np.diag([-2*B*c for i in range(num_assets)])+c*np.ones((num_assets,num_assets))"
   ]
  },
  {
   "cell_type": "code",
   "execution_count": null,
   "id": "3316e1ac-df24-490c-8703-700a755a5a00",
   "metadata": {},
   "outputs": [],
   "source": []
  },
  {
   "cell_type": "code",
   "execution_count": 26,
   "id": "17617430-d77c-42da-8063-c217071bb49a",
   "metadata": {},
   "outputs": [
    {
     "data": {
      "text/plain": [
       "array([-1.41204949, -1.40837666, -1.40043653, -1.39982917, -1.39922731,\n",
       "       -1.39877648, -1.39799379, -1.38757645, -1.38617399, -0.39719521])"
      ]
     },
     "execution_count": 26,
     "metadata": {},
     "output_type": "execute_result"
    }
   ],
   "source": [
    "np.linalg.eigvalsh(A)"
   ]
  },
  {
   "cell_type": "code",
   "execution_count": 27,
   "id": "03d240cf-48c8-48bc-838a-3411389db22f",
   "metadata": {},
   "outputs": [
    {
     "data": {
      "text/plain": [
       "array([ 1.00000000e+00, -3.55548376e-24,  5.55476135e-01,  1.00000000e+00,\n",
       "        1.00000000e+00,  4.08114473e-23,  2.44701938e-01, -5.05032106e-24,\n",
       "        9.49339951e-24,  2.17992201e-22])"
      ]
     },
     "execution_count": 27,
     "metadata": {},
     "output_type": "execute_result"
    }
   ],
   "source": [
    "import cvxpy as cp\n",
    "x = cp.Variable(num_assets)\n",
    "objective = cp.Minimize(x.T @ sigma @ x - x @ mu.T)\n",
    "constraints = [0 <= x, x <= 1]\n",
    "prob = cp.Problem(objective, constraints)\n",
    "result = prob.solve()\n",
    "x.value"
   ]
  },
  {
   "cell_type": "code",
   "execution_count": 28,
   "id": "a0b5b3b4-48a5-4e47-ac55-5ebf872d6d30",
   "metadata": {},
   "outputs": [],
   "source": [
    "def cost(x):\n",
    "    return x.dot(A).dot(x)\n",
    "from qiskit.quantum_info import SparsePauliOp\n",
    "\n",
    "def indexedZ(i):\n",
    "    return SparsePauliOp((num_assets-i-1)*'I' + 'Z' + 'I'*(i))\n",
    "\n",
    "def indexedY(i):\n",
    "    return SparsePauliOp((num_assets-i-1)*'I' + 'Y' + 'I'*(i))\n",
    "\n",
    "def indexedX(i):\n",
    "    return SparsePauliOp((num_assets-i-1)*'I' + 'X' + 'I'*(i))"
   ]
  },
  {
   "cell_type": "code",
   "execution_count": null,
   "id": "2aee6581-e4c2-4d6e-8508-0d9bc2f00a65",
   "metadata": {},
   "outputs": [],
   "source": [
    "cost(np.random.randint(0,2,10))"
   ]
  },
  {
   "cell_type": "code",
   "execution_count": null,
   "id": "7c70aa23-fd99-4bae-ade7-981d75b07cbf",
   "metadata": {},
   "outputs": [],
   "source": [
    "from qiskit import QuantumCircuit\n",
    "from functools import reduce\n",
    "from qiskit.circuit.library import PauliEvolutionGate\n",
    "from qiskit.circuit import Parameter\n",
    "H = 0 * SparsePauliOp('I' * num_assets)\n",
    "for i in range(num_assets):\n",
    "    for j in range(num_assets):\n",
    "        H+=1/4 * A[i][j]* SparsePauliOp('I' * num_assets)-1/2 *  A[i][j]* indexedZ(i)+1/4 * A[i][j] * indexedZ(i) @ indexedZ(j)\n",
    "H=H.simplify()\n",
    "\n",
    "\n",
    "H_mix = reduce(lambda a,b: a+b, [indexedX(i) for i in range(num_assets)])\n",
    "default_mixer = QuantumCircuit(num_assets)\n",
    "default_mixer.append( PauliEvolutionGate(H_mix, Parameter('t')), range(num_assets))\n"
   ]
  },
  {
   "cell_type": "code",
   "execution_count": null,
   "id": "5452c967-2039-4837-8d23-416a316b38f9",
   "metadata": {
    "scrolled": true
   },
   "outputs": [],
   "source": [
    "from qiskit.circuit import ParameterVector\n",
    "def QAOA_Ansatz(cost,mixer,p=1,initial=None):\n",
    "    qc=QuantumCircuit(num_assets)\n",
    "    if(initial is None):\n",
    "        qc.h(range(num_assets))\n",
    "    else:\n",
    "        qc = initial.copy()\n",
    "    Gamma = ParameterVector('γ',p)\n",
    "    Beta = ParameterVector('β',p)\n",
    "    for i in range(p):\n",
    "        qc.append(PauliEvolutionGate(cost,Gamma[i]),range(num_assets))\n",
    "        qc.append(mixer.assign_parameters([Beta[i]]),range(num_assets))\n",
    "    return qc\n"
   ]
  },
  {
   "cell_type": "code",
   "execution_count": null,
   "id": "f2790a9e-fc57-402f-a919-a777bf07642f",
   "metadata": {},
   "outputs": [],
   "source": [
    "import cvxpy as cp\n",
    "from scipy.linalg import sqrtm\n",
    "def GWcut(reps=1):\n",
    "    min = None\n",
    "    min_x = None\n",
    "\n",
    "    X=cp.Variable((num_assets,num_assets),PSD=True)\n",
    "    constraints = [X >> 0]\n",
    "    constraints += [\n",
    "        X[i,i] == 1 for i in range(num_assets)\n",
    "    ]\n",
    "    objective = cp.trace(-A @ X)\n",
    "    prob = cp.Problem(cp.Maximize(objective),constraints)\n",
    "    prob.solve()\n",
    "    x=sqrtm(X.value)\n",
    "    \n",
    "    for i in range(reps):\n",
    "\n",
    "        u = np.random.random(num_assets)\n",
    "        z=np.array(np.sign(x.real @ u)/2+1/2,dtype=int)\n",
    "        l=cost(z)\n",
    "        if(i==0):\n",
    "            min = l\n",
    "            min_x = z\n",
    "        else:\n",
    "            if(l<min):\n",
    "                min = l\n",
    "                min_x = z\n",
    "    return (min,min_x)"
   ]
  },
  {
   "cell_type": "code",
   "execution_count": null,
   "id": "8ec8e219-c9dc-4560-9d12-a89b113962ca",
   "metadata": {},
   "outputs": [],
   "source": [
    "epsilon=0.25\n",
    "def WarmStartQAOA(initial,cost,p=1,modified=True):\n",
    "    \n",
    "    theta = [2*np.arcsin(np.sqrt(epsilon)),2*np.arcsin(np.sqrt(1-epsilon))]\n",
    "\n",
    "    init_qc= QuantumCircuit(num_assets)\n",
    "    mixer=QuantumCircuit(num_assets)\n",
    "\n",
    "    t = Parameter('t')\n",
    "    for i,v in enumerate(initial):\n",
    "        init_qc.ry(theta[v],i)\n",
    "        if(modified):\n",
    "            mixer.ry(theta[v],i)\n",
    "            mixer.rz(-2*t,i)\n",
    "            mixer.ry(-theta[v],i)\n",
    "        else:\n",
    "            mixer.ry(-theta[v],i)\n",
    "            mixer.rz(-2*t,i)\n",
    "            mixer.ry(theta[v],i)\n",
    "    return QAOA_Ansatz(cost=cost,mixer=mixer,p=p,initial=init_qc)\n",
    "\n"
   ]
  },
  {
   "cell_type": "code",
   "execution_count": null,
   "id": "0f81216c-2c04-4020-8f4a-65e2a236fda1",
   "metadata": {},
   "outputs": [],
   "source": [
    "initial = (GWcut(100)[1])\n",
    "qaoa_ansatz = QAOA_Ansatz(H,default_mixer,p=1)\n",
    "modified_wsqaoa_ansatz = WarmStartQAOA(initial,H,p=1,modified=True)\n",
    "wsqaoa_ansatz = WarmStartQAOA(initial,H,p=1,modified=False) "
   ]
  },
  {
   "cell_type": "code",
   "execution_count": null,
   "id": "1dfc4c0d-2c93-4e01-8063-c6ccc39fa1db",
   "metadata": {},
   "outputs": [],
   "source": [
    "qaoa_data = np.zeros((50,50))\n",
    "wsqaoa_data = np.zeros((50,50))\n",
    "modified_wsqaoa_data= np.zeros((50,50))"
   ]
  },
  {
   "cell_type": "code",
   "execution_count": null,
   "id": "07fd3deb-96b3-40f7-a6d1-7cf89f24f706",
   "metadata": {},
   "outputs": [],
   "source": [
    "from qiskit.quantum_info import Statevector\n",
    "for i,x in enumerate(np.linspace(0,2*np.pi,50)):\n",
    "    for j,y in enumerate(np.linspace(0,2*np.pi,50)):\n",
    "        qaoa_data[i][j]=Statevector(qaoa_ansatz.assign_parameters([x,y])).expectation_value(H).real\n",
    "        wsqaoa_data[i][j]=Statevector(wsqaoa_ansatz.assign_parameters([x,y])).expectation_value(H).real\n",
    "        modified_wsqaoa_data[i][j]=Statevector(modified_wsqaoa_ansatz.assign_parameters([x,y])).expectation_value(H).real\n"
   ]
  },
  {
   "cell_type": "code",
   "execution_count": null,
   "id": "46ed6149-7212-497c-aba0-413691e2d26e",
   "metadata": {},
   "outputs": [],
   "source": [
    "import matplotlib.pyplot as plt\n",
    "plt.imshow(qaoa_data.T,origin='lower')"
   ]
  },
  {
   "cell_type": "code",
   "execution_count": null,
   "id": "247ae5f8-df16-4dc5-bc93-7be49f5b1bb6",
   "metadata": {},
   "outputs": [],
   "source": [
    "plt.imshow(wsqaoa_data.T,origin='lower')"
   ]
  },
  {
   "cell_type": "code",
   "execution_count": null,
   "id": "f26d2d43-4215-4014-8672-235c35ef8e09",
   "metadata": {},
   "outputs": [],
   "source": [
    "plt.imshow(modified_wsqaoa_data.T,origin='lower')"
   ]
  },
  {
   "cell_type": "code",
   "execution_count": null,
   "id": "314d8b10-5842-493a-8bac-29380d362fe3",
   "metadata": {},
   "outputs": [],
   "source": [
    "np.min(qaoa_data)"
   ]
  },
  {
   "cell_type": "code",
   "execution_count": null,
   "id": "97c2f5b6-0136-48f7-91f7-dedfa0f4ee93",
   "metadata": {},
   "outputs": [],
   "source": [
    "np.min(wsqaoa_data)"
   ]
  },
  {
   "cell_type": "code",
   "execution_count": null,
   "id": "eddb6dac-ed87-4d47-b5e7-34cf7b2f6106",
   "metadata": {},
   "outputs": [],
   "source": [
    "np.min(modified_wsqaoa_data)"
   ]
  },
  {
   "cell_type": "code",
   "execution_count": null,
   "id": "757ca551-2a1f-4539-9246-27c7e2a4c597",
   "metadata": {},
   "outputs": [],
   "source": [
    "initial = (GWcut(100)[1])\n",
    "cost(initial)"
   ]
  },
  {
   "cell_type": "code",
   "execution_count": null,
   "id": "3d2e640d-c153-48c0-be6f-0c3ecce93510",
   "metadata": {},
   "outputs": [],
   "source": [
    "p_max = 8\n",
    "initial = (GWcut(100)[1])\n",
    "defualt_qaoa_ansatze = [QAOA_Ansatz(H,default_mixer,p=p) for p in range(1,p_max)]\n",
    "modified_wsqaoa_ansatze = [WarmStartQAOA(initial,H,p=p,modified=True) for p in range(1,p_max)]\n",
    "wsqaoa_ansatze = [WarmStartQAOA(initial,H,p=p,modified=False) for p in range(1,p_max)]\n",
    "\n",
    "from qiskit_algorithms.optimizers import COBYLA\n",
    "from qiskit.quantum_info import Statevector"
   ]
  },
  {
   "cell_type": "code",
   "execution_count": null,
   "id": "0e7da294-2b79-4b96-98f7-40e7ec29e67b",
   "metadata": {},
   "outputs": [],
   "source": [
    "from qiskit_algorithms.optimizers import COBYLA,SPSA\n",
    "opt = SPSA(maxiter=1000)\n",
    "def minimize(ansatz_list,reps=5):\n",
    "    print(\"Starting Optimization\")\n",
    "    print(\"---------------------\")\n",
    "    cost_list = []\n",
    "    parameter_list = []\n",
    "    for n,a in enumerate(ansatz_list):\n",
    "        current_cost = []\n",
    "        current_params = []\n",
    "        for i in range(reps):\n",
    "            # if(n==0):\n",
    "            #     #init = np.random.random(2)*2*np.pi\n",
    "            # else:\n",
    "            #     #init = np.array(list(parameter_list[-1])+[0,0])\n",
    "            res = opt.minimize(lambda x: Statevector(a.assign_parameters(x)).expectation_value(H).real, x0=np.random.random(2*(n+1))*2*np.pi )\n",
    "            if(i==0):\n",
    "                current_cost = res.fun\n",
    "                current_params =res.x\n",
    "            elif(current_cost > res.fun):\n",
    "                current_cost = res.fun\n",
    "                current_params =res.x\n",
    "        cost_list.append(current_cost)\n",
    "        parameter_list.append(current_params)\n",
    "        print(n)\n",
    "    return cost_list,parameter_list\n",
    "                \n",
    "                "
   ]
  },
  {
   "cell_type": "code",
   "execution_count": null,
   "id": "75255971-78d4-451c-ab9f-846fef4544e5",
   "metadata": {},
   "outputs": [],
   "source": [
    "defualt_res=minimize(defualt_qaoa_ansatze)\n",
    "modified_ws_res = minimize(modified_wsqaoa_ansatze)\n",
    "ws_res=minimize(wsqaoa_ansatze)"
   ]
  },
  {
   "cell_type": "code",
   "execution_count": null,
   "id": "82658686-4b0e-437e-80b4-8c4ac4b53470",
   "metadata": {},
   "outputs": [],
   "source": [
    "plt.plot(defualt_res[0],label='default')\n",
    "plt.plot(modified_ws_res[0],label='modws')\n",
    "plt.plot(ws_res[0],label='ws')\n",
    "plt.legend()\n",
    "plt.plot(np.vstack([np.linalg.eigvalsh(H)[0].real for i in range(1,p_max)]))"
   ]
  },
  {
   "cell_type": "code",
   "execution_count": null,
   "id": "17c7cd4e-18c1-4ec1-ab3f-1a8cf6ce095c",
   "metadata": {},
   "outputs": [],
   "source": []
  }
 ],
 "metadata": {
  "kernelspec": {
   "display_name": "Python 3 (ipykernel)",
   "language": "python",
   "name": "python3"
  },
  "language_info": {
   "codemirror_mode": {
    "name": "ipython",
    "version": 3
   },
   "file_extension": ".py",
   "mimetype": "text/x-python",
   "name": "python",
   "nbconvert_exporter": "python",
   "pygments_lexer": "ipython3",
   "version": "3.12.2"
  }
 },
 "nbformat": 4,
 "nbformat_minor": 5
}
