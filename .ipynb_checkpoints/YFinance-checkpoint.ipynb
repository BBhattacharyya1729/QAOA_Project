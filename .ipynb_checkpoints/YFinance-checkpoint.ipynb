{
 "cells": [
  {
   "cell_type": "code",
   "execution_count": 1,
   "id": "56d07d03-9dd2-4c65-96aa-8f29f69b404a",
   "metadata": {},
   "outputs": [
    {
     "name": "stdout",
     "output_type": "stream",
     "text": [
      "Retrieved data for AAPL\n",
      "Retrieved data for MSFT\n",
      "Retrieved data for GOOGL\n",
      "Retrieved data for AMZN\n",
      "Retrieved data for DIS\n",
      "Retrieved data for TSLA\n",
      "Retrieved data for BRK-A\n",
      "                                 AAPL        MSFT       GOOGL        AMZN  \\\n",
      "Date                                                                        \n",
      "2019-04-03 00:00:00-04:00   46.510390  114.093823   60.634998   91.335999   \n",
      "2019-04-04 00:00:00-04:00   46.881028  114.322265   60.564499   91.032501   \n",
      "2019-04-05 00:00:00-04:00   47.280542  113.646422   60.965000   91.449997   \n",
      "2019-04-08 00:00:00-04:00   47.273323  114.046216   60.555500   91.661499   \n",
      "2019-04-09 00:00:00-04:00   48.211958  112.922978   60.094501   92.274498   \n",
      "...                               ...         ...         ...         ...   \n",
      "2024-03-26 00:00:00-04:00  170.000000  425.609985  150.220001  180.149994   \n",
      "2024-03-27 00:00:00-04:00  170.410004  424.440002  151.179993  179.880005   \n",
      "2024-03-28 00:00:00-04:00  171.750000  420.959991  150.850006  180.169998   \n",
      "2024-04-01 00:00:00-04:00  171.190002  423.950012  150.690002  180.789993   \n",
      "2024-04-02 00:00:00-04:00  169.059998  420.157990  153.490005  179.093994   \n",
      "\n",
      "                                  DIS        TSLA     BRK-A  \n",
      "Date                                                         \n",
      "2019-04-03 00:00:00-04:00  110.977611   19.154667  308000.0  \n",
      "2019-04-04 00:00:00-04:00  111.509360   17.459333  305250.0  \n",
      "2019-04-05 00:00:00-04:00  113.212922   17.990667  305495.0  \n",
      "2019-04-08 00:00:00-04:00  113.242469   18.512667  307674.0  \n",
      "2019-04-09 00:00:00-04:00  113.843147   18.110001  306820.0  \n",
      "...                               ...         ...       ...  \n",
      "2024-03-26 00:00:00-04:00  119.629997  178.580002  619805.0  \n",
      "2024-03-27 00:00:00-04:00  120.959999  181.410004  625082.0  \n",
      "2024-03-28 00:00:00-04:00  121.250000  177.449997  630365.0  \n",
      "2024-04-01 00:00:00-04:00  122.059998  176.169998  634831.0  \n",
      "2024-04-02 00:00:00-04:00  120.220001  164.688995  634792.0  \n",
      "\n",
      "[1258 rows x 7 columns]\n"
     ]
    }
   ],
   "source": [
    "import yfinance as yf\n",
    "import numpy as np\n",
    "import pandas as pd\n",
    "\n",
    "# Define a list of ticker symbols for the top 7 companies\n",
    "ticker_symbols = [\"AAPL\", \"MSFT\", \"GOOGL\", \"AMZN\", \"DIS\", \"TSLA\", \"BRK-A\"]\n",
    "\n",
    "# Initialize an empty list to store historical price data for each stock\n",
    "historical_prices = []\n",
    "\n",
    "# Define the alternative attribute to retrieve (e.g., Open, High, Low, Close, Volume)\n",
    "alternative_attribute = \"Open\"\n",
    "\n",
    "# Retrieve historical price data for each stock\n",
    "for symbol in ticker_symbols:\n",
    "    try:\n",
    "        # Initialize Ticker object for the current ticker symbol\n",
    "        ticker = yf.Ticker(symbol)\n",
    "        \n",
    "        # Retrieve historical price data for the stock (example: for the past 5 years)\n",
    "        historical_data = ticker.history(period=\"5y\")\n",
    "        \n",
    "        # Extract the alternative attribute and store it in the list\n",
    "        historical_prices.append(historical_data[alternative_attribute])\n",
    "        \n",
    "        print(f\"Retrieved data for {symbol}\")\n",
    "    except Exception as e:\n",
    "        print(f\"Failed to retrieve data for {symbol}: {e}\")\n",
    "\n",
    "# Combine historical price data into a single DataFrame\n",
    "prices_df = pd.concat(historical_prices, axis=1)\n",
    "prices_df.columns = ticker_symbols\n",
    "\n",
    "# Print the DataFrame\n",
    "print(prices_df)\n",
    "prices_df.to_csv(\"Historical_Stock_Data.csv\")"
   ]
  }
 ],
 "metadata": {
  "kernelspec": {
   "display_name": "Python 3 (ipykernel)",
   "language": "python",
   "name": "python3"
  },
  "language_info": {
   "codemirror_mode": {
    "name": "ipython",
    "version": 3
   },
   "file_extension": ".py",
   "mimetype": "text/x-python",
   "name": "python",
   "nbconvert_exporter": "python",
   "pygments_lexer": "ipython3",
   "version": "3.12.2"
  }
 },
 "nbformat": 4,
 "nbformat_minor": 5
}
