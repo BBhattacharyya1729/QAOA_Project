{
 "cells": [
  {
   "cell_type": "code",
   "execution_count": null,
   "id": "1094eee1-35aa-40f9-ab62-4bb7d0e40f43",
   "metadata": {},
   "outputs": [],
   "source": [
    "import yfinance"
   ]
  }
 ],
 "metadata": {
  "kernelspec": {
   "display_name": "Python 3 (ipykernel)",
   "language": "python",
   "name": "python3"
  },
  "language_info": {
   "codemirror_mode": {
    "name": "ipython",
    "version": 3
   },
   "file_extension": ".py",
   "mimetype": "text/x-python",
   "name": "python",
   "nbconvert_exporter": "python",
   "pygments_lexer": "ipython3",
   "version": "3.12.2"
  }
 },
 "nbformat": 4,
 "nbformat_minor": 5
}
