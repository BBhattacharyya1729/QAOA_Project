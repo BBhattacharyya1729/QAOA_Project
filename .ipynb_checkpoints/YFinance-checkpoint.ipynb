{
 "cells": [
  {
   "cell_type": "code",
   "execution_count": 1,
   "id": "56d07d03-9dd2-4c65-96aa-8f29f69b404a",
   "metadata": {},
   "outputs": [
    {
     "name": "stdout",
     "output_type": "stream",
     "text": [
      "Retrieved data for AAPL\n",
      "Retrieved data for MSFT\n",
      "Retrieved data for GOOGL\n",
      "Retrieved data for AMZN\n",
      "Retrieved data for DIS\n",
      "Retrieved data for TSLA\n",
      "Retrieved data for CCL\n",
      "                                 AAPL        MSFT       GOOGL        AMZN  \\\n",
      "Date                                                                        \n",
      "2019-04-11 00:00:00-04:00   48.339525  114.741103   60.445000   92.434998   \n",
      "2019-04-12 00:00:00-04:00   47.942395  114.836294   60.780998   92.419998   \n",
      "2019-04-15 00:00:00-04:00   47.793197  115.121869   61.204498   92.099998   \n",
      "2019-04-16 00:00:00-04:00   48.004977  115.788186   61.500000   92.567497   \n",
      "2019-04-17 00:00:00-04:00   48.024231  115.407417   61.849998   93.649498   \n",
      "...                               ...         ...         ...         ...   \n",
      "2024-04-04 00:00:00-04:00  170.289993  424.989990  153.500000  184.000000   \n",
      "2024-04-05 00:00:00-04:00  169.589996  420.010010  150.029999  182.380005   \n",
      "2024-04-08 00:00:00-04:00  169.029999  425.170013  152.779999  186.899994   \n",
      "2024-04-09 00:00:00-04:00  168.699997  426.440002  156.089996  187.240005   \n",
      "2024-04-10 00:00:00-04:00  168.800003  422.190002  156.210007  182.770004   \n",
      "\n",
      "                                  DIS        TSLA        CCL  \n",
      "Date                                                          \n",
      "2019-04-11 00:00:00-04:00  115.930751   17.886667  50.173726  \n",
      "2019-04-12 00:00:00-04:00  125.955161   18.014668  50.700253  \n",
      "2019-04-15 00:00:00-04:00  129.047173   17.908667  51.111908  \n",
      "2019-04-16 00:00:00-04:00  129.736466   17.716667  51.600147  \n",
      "2019-04-17 00:00:00-04:00  127.826127   18.316668  52.768091  \n",
      "...                               ...         ...        ...  \n",
      "2024-04-04 00:00:00-04:00  119.220001  170.070007  15.590000  \n",
      "2024-04-05 00:00:00-04:00  116.599998  169.080002  15.010000  \n",
      "2024-04-08 00:00:00-04:00  118.019997  169.339996  15.250000  \n",
      "2024-04-09 00:00:00-04:00  117.379997  172.910004  15.620000  \n",
      "2024-04-10 00:00:00-04:00  116.599998  173.039993  15.150000  \n",
      "\n",
      "[1258 rows x 7 columns]\n"
     ]
    }
   ],
   "source": [
    "import yfinance as yf\n",
    "import numpy as np\n",
    "import pandas as pd\n",
    "\n",
    "# Define a list of ticker symbols for the top 7 companies\n",
    "ticker_symbols = [\"AAPL\", \"MSFT\", \"GOOGL\", \"AMZN\", \"DIS\", \"TSLA\", \"CCL\"]\n",
    "\n",
    "# Initialize an empty list to store historical price data for each stock\n",
    "historical_prices = []\n",
    "\n",
    "# Define the alternative attribute to retrieve (e.g., Open, High, Low, Close, Volume)\n",
    "alternative_attribute = \"Open\"\n",
    "\n",
    "# Retrieve historical price data for each stock\n",
    "for symbol in ticker_symbols:\n",
    "    try:\n",
    "        # Initialize Ticker object for the current ticker symbol\n",
    "        ticker = yf.Ticker(symbol)\n",
    "        \n",
    "        # Retrieve historical price data for the stock (example: for the past 5 years)\n",
    "        historical_data = ticker.history(period=\"5y\")\n",
    "        \n",
    "        # Extract the alternative attribute and store it in the list\n",
    "        historical_prices.append(historical_data[alternative_attribute])\n",
    "        \n",
    "        print(f\"Retrieved data for {symbol}\")\n",
    "    except Exception as e:\n",
    "        print(f\"Failed to retrieve data for {symbol}: {e}\")\n",
    "\n",
    "# Combine historical price data into a single DataFrame\n",
    "prices_df = pd.concat(historical_prices, axis=1)\n",
    "prices_df.columns = ticker_symbols\n",
    "\n",
    "# Print the DataFrame\n",
    "print(prices_df)\n",
    "prices_df.to_csv(\"Historical_Stock_Data.csv\")"
   ]
  }
 ],
 "metadata": {
  "kernelspec": {
   "display_name": "Python 3 (ipykernel)",
   "language": "python",
   "name": "python3"
  },
  "language_info": {
   "codemirror_mode": {
    "name": "ipython",
    "version": 3
   },
   "file_extension": ".py",
   "mimetype": "text/x-python",
   "name": "python",
   "nbconvert_exporter": "python",
   "pygments_lexer": "ipython3",
   "version": "3.12.2"
  }
 },
 "nbformat": 4,
 "nbformat_minor": 5
}
