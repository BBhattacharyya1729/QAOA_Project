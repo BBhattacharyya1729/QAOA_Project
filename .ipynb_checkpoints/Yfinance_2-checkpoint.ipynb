{
 "cells": [
  {
   "cell_type": "code",
   "execution_count": null,
   "id": "0ec2197f-b19e-44da-b669-367d151b2b5a",
   "metadata": {},
   "outputs": [],
   "source": [
    "import yfinance as yf\n",
    "import numpy as np\n",
    "\n",
    "# Define a list of ticker symbols for the top 7 companies\n",
    "ticker_symbols = [\"AAPL\", \"MSFT\", \"GOOGL\", \"AMZN\", \"FB\", \"TSLA\", \"BRK-A\"]\n",
    "\n",
    "# Initialize an empty list to store historical price data for each stock\n",
    "historical_prices = []\n",
    "\n",
    "# Retrieve historical price data for each stock\n",
    "for symbol in ticker_symbols:\n",
    "    try:\n",
    "        # Initialize Ticker object for the current ticker symbol\n",
    "        ticker = yf.Ticker(symbol)\n",
    "        \n",
    "        # Retrieve historical price data for the stock (example: for the past 5 years)\n",
    "        historical_data = ticker.history(period=\"5y\")\n",
    "        \n",
    "        # Extract adjusted closing prices and store them in the list\n",
    "        historical_prices.append(historical_data['Adj Close'])\n",
    "        \n",
    "        print(f\"Retrieved data for {symbol}\")\n",
    "    except Exception as e:\n",
    "        print(f\"Failed to retrieve data for {symbol}: {e}\")\n",
    "\n",
    "# Combine historical price data into a single DataFrame\n",
    "prices_df = pd.concat(historical_prices, axis=1)\n",
    "prices_df.columns = ticker_symbols\n",
    "\n",
    "# Calculate daily returns\n",
    "returns_df = prices_df.pct_change().dropna()\n",
    "\n",
    "# Calculate mean returns and covariance matrix\n",
    "mean_returns = returns_df.mean()\n",
    "cov_matrix = returns_df.cov()\n",
    "\n",
    "# Print mean returns and covariance matrix\n",
    "print(\"Mean Returns:\")\n",
    "print(mean_returns)\n",
    "print(\"\\nCovariance Matrix:\")\n",
    "print(cov_matrix)"
   ]
  }
 ],
 "metadata": {
  "kernelspec": {
   "display_name": "",
   "name": ""
  },
  "language_info": {
   "name": ""
  }
 },
 "nbformat": 4,
 "nbformat_minor": 5
}
