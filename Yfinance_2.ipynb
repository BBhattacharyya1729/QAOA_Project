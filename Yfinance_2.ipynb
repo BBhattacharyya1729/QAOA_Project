{
 "cells": [
  {
   "cell_type": "code",
   "execution_count": 3,
   "id": "0ec2197f-b19e-44da-b669-367d151b2b5a",
   "metadata": {},
   "outputs": [
    {
     "name": "stdout",
     "output_type": "stream",
     "text": [
      "Failed to retrieve data for AAPL: 'Adj Close'\n",
      "Failed to retrieve data for MSFT: 'Adj Close'\n",
      "Failed to retrieve data for GOOGL: 'Adj Close'\n",
      "Failed to retrieve data for AMZN: 'Adj Close'\n"
     ]
    },
    {
     "name": "stderr",
     "output_type": "stream",
     "text": [
      "FB: No data found, symbol may be delisted\n"
     ]
    },
    {
     "name": "stdout",
     "output_type": "stream",
     "text": [
      "Retrieved data for FB\n",
      "Failed to retrieve data for TSLA: 'Adj Close'\n",
      "Failed to retrieve data for BRK-A: 'Adj Close'\n",
      "Mean Returns:\n",
      "FB   NaN\n",
      "dtype: float64\n",
      "\n",
      "Covariance Matrix:\n",
      "    FB\n",
      "FB NaN\n"
     ]
    },
    {
     "name": "stderr",
     "output_type": "stream",
     "text": [
      "C:\\Users\\Micha\\anaconda3\\envs\\QAOA\\Lib\\site-packages\\numpy\\lib\\function_base.py:520: RuntimeWarning: Mean of empty slice.\n",
      "  avg = a.mean(axis, **keepdims_kw)\n",
      "C:\\Users\\Micha\\anaconda3\\envs\\QAOA\\Lib\\site-packages\\numpy\\core\\_methods.py:121: RuntimeWarning: invalid value encountered in divide\n",
      "  ret = um.true_divide(\n",
      "C:\\Users\\Micha\\anaconda3\\envs\\QAOA\\Lib\\site-packages\\pandas\\core\\frame.py:11198: RuntimeWarning: Degrees of freedom <= 0 for slice\n",
      "  base_cov = np.cov(mat.T, ddof=ddof)\n",
      "C:\\Users\\Micha\\anaconda3\\envs\\QAOA\\Lib\\site-packages\\numpy\\lib\\function_base.py:2748: RuntimeWarning: divide by zero encountered in divide\n",
      "  c *= np.true_divide(1, fact)\n",
      "C:\\Users\\Micha\\anaconda3\\envs\\QAOA\\Lib\\site-packages\\numpy\\lib\\function_base.py:2748: RuntimeWarning: invalid value encountered in multiply\n",
      "  c *= np.true_divide(1, fact)\n"
     ]
    }
   ],
   "source": [
    "import yfinance as yf\n",
    "import numpy as np\n",
    "import pandas as pd\n",
    "\n",
    "# Define a list of ticker symbols for the top 7 companies\n",
    "ticker_symbols = [\"AAPL\", \"MSFT\", \"GOOGL\", \"AMZN\", \"FB\", \"TSLA\", \"BRK-A\"]\n",
    "\n",
    "# Initialize an empty list to store historical price data for each stock\n",
    "historical_prices = []\n",
    "\n",
    "# Retrieve historical price data for each stock\n",
    "successful_symbols = []\n",
    "for symbol in ticker_symbols:\n",
    "    try:\n",
    "        # Initialize Ticker object for the current ticker symbol\n",
    "        ticker = yf.Ticker(symbol)\n",
    "        \n",
    "        # Retrieve historical price data for the stock (example: for the past 5 years)\n",
    "        historical_data = ticker.history(period=\"5y\")\n",
    "        \n",
    "        # Extract adjusted closing prices and store them in the list\n",
    "        historical_prices.append(historical_data['Adj Close'])\n",
    "        \n",
    "        print(f\"Retrieved data for {symbol}\")\n",
    "        successful_symbols.append(symbol)\n",
    "    except Exception as e:\n",
    "        print(f\"Failed to retrieve data for {symbol}: {e}\")\n",
    "\n",
    "# Combine historical price data into a single DataFrame\n",
    "prices_df = pd.concat(historical_prices, axis=1)\n",
    "prices_df.columns = successful_symbols  # Assign only successful symbols\n",
    "\n",
    "# Calculate daily returns\n",
    "returns_df = prices_df.pct_change().dropna()\n",
    "\n",
    "# Calculate mean returns and covariance matrix\n",
    "mean_returns = returns_df.mean()\n",
    "cov_matrix = returns_df.cov()\n",
    "\n",
    "# Print mean returns and covariance matrix\n",
    "print(\"Mean Returns:\")\n",
    "print(mean_returns)\n",
    "print(\"\\nCovariance Matrix:\")\n",
    "print(cov_matrix)"
   ]
  },
  {
   "cell_type": "code",
   "execution_count": null,
   "id": "98c8395e-94db-429d-90cf-23bb3a271ae9",
   "metadata": {},
   "outputs": [],
   "source": []
  }
 ],
 "metadata": {
  "kernelspec": {
   "display_name": "Python 3 (ipykernel)",
   "language": "python",
   "name": "python3"
  },
  "language_info": {
   "codemirror_mode": {
    "name": "ipython",
    "version": 3
   },
   "file_extension": ".py",
   "mimetype": "text/x-python",
   "name": "python",
   "nbconvert_exporter": "python",
   "pygments_lexer": "ipython3",
   "version": "3.12.2"
  }
 },
 "nbformat": 4,
 "nbformat_minor": 5
}
