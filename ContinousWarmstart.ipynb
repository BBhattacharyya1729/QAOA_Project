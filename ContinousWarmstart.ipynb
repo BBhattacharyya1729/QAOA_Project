{
 "cells": [
  {
   "cell_type": "code",
   "execution_count": 1,
   "id": "37f4e552-1b96-4d0e-838b-aadeef8d5953",
   "metadata": {},
   "outputs": [],
   "source": [
    "import numpy as np\n",
    "import matplotlib.pyplot as plt\n",
    "import pandas as pd\n",
    "from qiskit import QuantumCircuit\n",
    "from functools import reduce\n",
    "from qiskit.circuit.library import PauliEvolutionGate\n",
    "from qiskit.circuit import Parameter\n",
    "from qiskit.quantum_info import Statevector\n",
    "from qiskit_algorithms.optimizers import COBYLA"
   ]
  },
  {
   "cell_type": "code",
   "execution_count": 2,
   "id": "e35aefc9-9ee6-49f3-9414-36e6080695be",
   "metadata": {},
   "outputs": [
    {
     "data": {
      "text/html": [
       "<div>\n",
       "<style scoped>\n",
       "    .dataframe tbody tr th:only-of-type {\n",
       "        vertical-align: middle;\n",
       "    }\n",
       "\n",
       "    .dataframe tbody tr th {\n",
       "        vertical-align: top;\n",
       "    }\n",
       "\n",
       "    .dataframe thead th {\n",
       "        text-align: right;\n",
       "    }\n",
       "</style>\n",
       "<table border=\"1\" class=\"dataframe\">\n",
       "  <thead>\n",
       "    <tr style=\"text-align: right;\">\n",
       "      <th></th>\n",
       "      <th>Date</th>\n",
       "      <th>AAPL</th>\n",
       "      <th>MSFT</th>\n",
       "      <th>GOOGL</th>\n",
       "      <th>AMZN</th>\n",
       "      <th>DIS</th>\n",
       "      <th>TSLA</th>\n",
       "      <th>CCL</th>\n",
       "    </tr>\n",
       "  </thead>\n",
       "  <tbody>\n",
       "    <tr>\n",
       "      <th>0</th>\n",
       "      <td>2019-04-11 00:00:00-04:00</td>\n",
       "      <td>48.339525</td>\n",
       "      <td>114.741103</td>\n",
       "      <td>60.445000</td>\n",
       "      <td>92.434998</td>\n",
       "      <td>115.930751</td>\n",
       "      <td>17.886667</td>\n",
       "      <td>50.173726</td>\n",
       "    </tr>\n",
       "    <tr>\n",
       "      <th>1</th>\n",
       "      <td>2019-04-12 00:00:00-04:00</td>\n",
       "      <td>47.942395</td>\n",
       "      <td>114.836294</td>\n",
       "      <td>60.780998</td>\n",
       "      <td>92.419998</td>\n",
       "      <td>125.955161</td>\n",
       "      <td>18.014668</td>\n",
       "      <td>50.700253</td>\n",
       "    </tr>\n",
       "    <tr>\n",
       "      <th>2</th>\n",
       "      <td>2019-04-15 00:00:00-04:00</td>\n",
       "      <td>47.793197</td>\n",
       "      <td>115.121869</td>\n",
       "      <td>61.204498</td>\n",
       "      <td>92.099998</td>\n",
       "      <td>129.047173</td>\n",
       "      <td>17.908667</td>\n",
       "      <td>51.111908</td>\n",
       "    </tr>\n",
       "    <tr>\n",
       "      <th>3</th>\n",
       "      <td>2019-04-16 00:00:00-04:00</td>\n",
       "      <td>48.004977</td>\n",
       "      <td>115.788186</td>\n",
       "      <td>61.500000</td>\n",
       "      <td>92.567497</td>\n",
       "      <td>129.736466</td>\n",
       "      <td>17.716667</td>\n",
       "      <td>51.600147</td>\n",
       "    </tr>\n",
       "    <tr>\n",
       "      <th>4</th>\n",
       "      <td>2019-04-17 00:00:00-04:00</td>\n",
       "      <td>48.024231</td>\n",
       "      <td>115.407417</td>\n",
       "      <td>61.849998</td>\n",
       "      <td>93.649498</td>\n",
       "      <td>127.826127</td>\n",
       "      <td>18.316668</td>\n",
       "      <td>52.768091</td>\n",
       "    </tr>\n",
       "  </tbody>\n",
       "</table>\n",
       "</div>"
      ],
      "text/plain": [
       "                        Date       AAPL        MSFT      GOOGL       AMZN  \\\n",
       "0  2019-04-11 00:00:00-04:00  48.339525  114.741103  60.445000  92.434998   \n",
       "1  2019-04-12 00:00:00-04:00  47.942395  114.836294  60.780998  92.419998   \n",
       "2  2019-04-15 00:00:00-04:00  47.793197  115.121869  61.204498  92.099998   \n",
       "3  2019-04-16 00:00:00-04:00  48.004977  115.788186  61.500000  92.567497   \n",
       "4  2019-04-17 00:00:00-04:00  48.024231  115.407417  61.849998  93.649498   \n",
       "\n",
       "          DIS       TSLA        CCL  \n",
       "0  115.930751  17.886667  50.173726  \n",
       "1  125.955161  18.014668  50.700253  \n",
       "2  129.047173  17.908667  51.111908  \n",
       "3  129.736466  17.716667  51.600147  \n",
       "4  127.826127  18.316668  52.768091  "
      ]
     },
     "execution_count": 2,
     "metadata": {},
     "output_type": "execute_result"
    }
   ],
   "source": [
    "###Import historical price data\n",
    "stock_df=pd.read_csv(\"Historical_Stock_Data.csv\")\n",
    "num_assets=7\n",
    "stock_df.head()"
   ]
  },
  {
   "cell_type": "code",
   "execution_count": 3,
   "id": "b5266262-48fb-454f-ab76-324de372fffd",
   "metadata": {},
   "outputs": [
    {
     "data": {
      "text/html": [
       "<div>\n",
       "<style scoped>\n",
       "    .dataframe tbody tr th:only-of-type {\n",
       "        vertical-align: middle;\n",
       "    }\n",
       "\n",
       "    .dataframe tbody tr th {\n",
       "        vertical-align: top;\n",
       "    }\n",
       "\n",
       "    .dataframe thead th {\n",
       "        text-align: right;\n",
       "    }\n",
       "</style>\n",
       "<table border=\"1\" class=\"dataframe\">\n",
       "  <thead>\n",
       "    <tr style=\"text-align: right;\">\n",
       "      <th></th>\n",
       "      <th>AAPL</th>\n",
       "      <th>MSFT</th>\n",
       "      <th>GOOGL</th>\n",
       "      <th>AMZN</th>\n",
       "      <th>DIS</th>\n",
       "      <th>TSLA</th>\n",
       "      <th>CCL</th>\n",
       "    </tr>\n",
       "  </thead>\n",
       "  <tbody>\n",
       "    <tr>\n",
       "      <th>1</th>\n",
       "      <td>-0.008215</td>\n",
       "      <td>0.000830</td>\n",
       "      <td>0.005559</td>\n",
       "      <td>-0.000162</td>\n",
       "      <td>0.086469</td>\n",
       "      <td>0.007156</td>\n",
       "      <td>0.010494</td>\n",
       "    </tr>\n",
       "    <tr>\n",
       "      <th>2</th>\n",
       "      <td>-0.003112</td>\n",
       "      <td>0.002487</td>\n",
       "      <td>0.006968</td>\n",
       "      <td>-0.003462</td>\n",
       "      <td>0.024549</td>\n",
       "      <td>-0.005884</td>\n",
       "      <td>0.008119</td>\n",
       "    </tr>\n",
       "    <tr>\n",
       "      <th>3</th>\n",
       "      <td>0.004431</td>\n",
       "      <td>0.005788</td>\n",
       "      <td>0.004828</td>\n",
       "      <td>0.005076</td>\n",
       "      <td>0.005341</td>\n",
       "      <td>-0.010721</td>\n",
       "      <td>0.009552</td>\n",
       "    </tr>\n",
       "    <tr>\n",
       "      <th>4</th>\n",
       "      <td>0.000401</td>\n",
       "      <td>-0.003288</td>\n",
       "      <td>0.005691</td>\n",
       "      <td>0.011689</td>\n",
       "      <td>-0.014725</td>\n",
       "      <td>0.033866</td>\n",
       "      <td>0.022635</td>\n",
       "    </tr>\n",
       "    <tr>\n",
       "      <th>5</th>\n",
       "      <td>0.017941</td>\n",
       "      <td>0.007836</td>\n",
       "      <td>0.006467</td>\n",
       "      <td>-0.002242</td>\n",
       "      <td>0.015099</td>\n",
       "      <td>-0.012812</td>\n",
       "      <td>-0.008527</td>\n",
       "    </tr>\n",
       "  </tbody>\n",
       "</table>\n",
       "</div>"
      ],
      "text/plain": [
       "       AAPL      MSFT     GOOGL      AMZN       DIS      TSLA       CCL\n",
       "1 -0.008215  0.000830  0.005559 -0.000162  0.086469  0.007156  0.010494\n",
       "2 -0.003112  0.002487  0.006968 -0.003462  0.024549 -0.005884  0.008119\n",
       "3  0.004431  0.005788  0.004828  0.005076  0.005341 -0.010721  0.009552\n",
       "4  0.000401 -0.003288  0.005691  0.011689 -0.014725  0.033866  0.022635\n",
       "5  0.017941  0.007836  0.006467 -0.002242  0.015099 -0.012812 -0.008527"
      ]
     },
     "execution_count": 3,
     "metadata": {},
     "output_type": "execute_result"
    }
   ],
   "source": [
    "###Compute Returns Timeseries\n",
    "return_df = (stock_df[[t for t in stock_df.columns if t!=\"Date\"]]-stock_df[[t for t in stock_df.columns if t!=\"Date\"]].shift())/stock_df[[t for t in stock_df.columns if t!=\"Date\"]].shift()\n",
    "return_df = return_df.loc[1:]\n",
    "return_df.head()"
   ]
  },
  {
   "cell_type": "code",
   "execution_count": 4,
   "id": "746c19ed-fb77-491f-91a9-f83f5ccb77dc",
   "metadata": {},
   "outputs": [],
   "source": [
    "###Pandas -> Numpy\n",
    "return_array  = np.array(return_df)"
   ]
  },
  {
   "cell_type": "code",
   "execution_count": 5,
   "id": "b0f712d3-8e45-43b4-8cc4-f56e843102e7",
   "metadata": {},
   "outputs": [],
   "source": [
    "###Set up problem \n",
    "mu = np.mean(return_array,axis=0)\n",
    "sigma= np.array(return_df.cov())\n",
    "B = 4\n",
    "c = 0.1\n",
    "sigma_mu=sigma- np.diag(mu)\n",
    "A=sigma_mu+np.diag([-2*B*c for i in range(num_assets)])+c*np.ones((num_assets,num_assets))"
   ]
  },
  {
   "cell_type": "code",
   "execution_count": 6,
   "id": "5b0c40f3-d186-4c5c-8c43-bd74e5b292d0",
   "metadata": {},
   "outputs": [
    {
     "data": {
      "text/plain": [
       "array([ 1.00000000e+00,  1.00000000e+00,  1.00000000e+00,  1.81288176e-01,\n",
       "        3.89620606e-01,  4.20946499e-01, -1.15449898e-22])"
      ]
     },
     "execution_count": 6,
     "metadata": {},
     "output_type": "execute_result"
    }
   ],
   "source": [
    "###Continous relaxation\n",
    "import cvxpy as cp\n",
    "x = cp.Variable(num_assets)\n",
    "objective = cp.Minimize(x.T @ sigma @ x - x @ mu.T+c*(np.ones(num_assets).T @x - B)**2)\n",
    "constraints = [0 <= x, x <= 1]\n",
    "prob = cp.Problem(objective, constraints)\n",
    "result = prob.solve()\n",
    "initial = x.value\n",
    "initial"
   ]
  },
  {
   "cell_type": "code",
   "execution_count": 7,
   "id": "70b2e147-68fa-4576-a235-4ae934eb06b0",
   "metadata": {},
   "outputs": [],
   "source": [
    "\"Function to compute expectation\"\n",
    "def cost(x):\n",
    "    return x.dot(A).dot(x)\n",
    "from qiskit.quantum_info import SparsePauliOp\n",
    "\n",
    "\"Indexed pauli ops (reverse qiskit order)\"\n",
    "def indexedZ(i):\n",
    "    return SparsePauliOp((num_assets-i-1)*'I' + 'Z' + 'I'*(i))\n",
    "\n",
    "def indexedY(i):\n",
    "    return SparsePauliOp((num_assets-i-1)*'I' + 'Y' + 'I'*(i))\n",
    "\n",
    "def indexedX(i):\n",
    "    return SparsePauliOp((num_assets-i-1)*'I' + 'X' + 'I'*(i))\n",
    "\n",
    "\n",
    "\"Encoded hamiltonian\"\n",
    "H = 0 * SparsePauliOp('I' * num_assets)\n",
    "for i in range(num_assets):\n",
    "    for j in range(num_assets):\n",
    "        H+=1/4 * A[i][j]* SparsePauliOp('I' * num_assets)-1/2 *  A[i][j]* indexedZ(i)+1/4 * A[i][j] * indexedZ(i) @ indexedZ(j)\n",
    "H=H.simplify()\n",
    "\n",
    "\"Constrcut Default Mixer\"\n",
    "H_mix = reduce(lambda a,b: a+b, [indexedX(i) for i in range(num_assets)])\n",
    "default_mixer = QuantumCircuit(num_assets)\n",
    "default_mixer.append( PauliEvolutionGate(H_mix, Parameter('t')), range(num_assets))\n",
    "\n",
    "\"Normal QAOA ansatz with a initial quantum circuit\"\n",
    "from qiskit.circuit import ParameterVector\n",
    "def QAOA_Ansatz(cost,mixer,p=1,initial=None):\n",
    "    qc=QuantumCircuit(num_assets)\n",
    "    if(initial is None):\n",
    "        qc.h(range(num_assets))\n",
    "    else:\n",
    "        qc = initial.copy()\n",
    "    Gamma = ParameterVector('γ',p)\n",
    "    Beta = ParameterVector('β',p)\n",
    "    for i in range(p):\n",
    "        qc.append(PauliEvolutionGate(cost,Gamma[i]),range(num_assets))\n",
    "        qc.append(mixer.assign_parameters([Beta[i]]),range(num_assets))\n",
    "    return qc\n"
   ]
  },
  {
   "cell_type": "code",
   "execution_count": 8,
   "id": "66f1ca95-7bd6-42a5-8c7d-ec697897ff81",
   "metadata": {},
   "outputs": [],
   "source": [
    "\"Convert angle to warmstart\"\n",
    "def get_angle(c,epsilon):\n",
    "    if(c<= epsilon):\n",
    "        return 2*np.arcsin(np.sqrt(epsilon))\n",
    "    elif(c>=1-epsilon):\n",
    "        return 2*np.arcsin(np.sqrt(1-epsilon))\n",
    "    else:\n",
    "        return 2*np.arcsin(np.sqrt(c))\n",
    "\n",
    "\"Warmstart QAOA\"\n",
    "def WarmStartQAOA(initial,epsilon,cost,p=1):\n",
    "    \n",
    "    theta_list = [get_angle(i,epsilon) for i in initial]\n",
    "\n",
    "    init_qc= QuantumCircuit(num_assets)\n",
    "    mixer=QuantumCircuit(num_assets)\n",
    "\n",
    "    t = Parameter('t')\n",
    "    for i,v in enumerate(theta_list):\n",
    "        init_qc.ry(v,i)\n",
    "        mixer.ry(-v,i)\n",
    "        mixer.rz(-2*t,i)\n",
    "        mixer.ry(v,i)\n",
    "    return QAOA_Ansatz(cost=cost,mixer=mixer,p=p,initial=init_qc)\n",
    "        \n"
   ]
  },
  {
   "cell_type": "code",
   "execution_count": 9,
   "id": "2e7c55e5-0f16-4fe7-932b-0f842c0a3ccf",
   "metadata": {},
   "outputs": [],
   "source": [
    "opt = COBYLA(maxiter = 10**2) ###Change if needed\n",
    "def single_circuit_optimization(ansatz):\n",
    "    history = {\"cost\": [], \"params\": []}\n",
    "    def compute_expectation(x):\n",
    "        psi = Statevector(ansatz.assign_parameters(x))\n",
    "        l = psi.expectation_value(H).real\n",
    "        history[\"cost\"].append(l)\n",
    "        history[\"params\"].append(x)\n",
    "        return l\n",
    "    res = opt.minimize(fun= compute_expectation, x0 = np.random.random(ansatz.num_parameters))\n",
    "    return res.fun,res.x,history\n",
    "\n",
    "def circuit_optimization(ansatz,reps=10):\n",
    "    print(\"------------Beginning Optimization------------\")\n",
    "    history_list = []\n",
    "    param_list = []\n",
    "    cost_list = []\n",
    "    for i in range(reps):\n",
    "        cost,params,history = single_circuit_optimization(ansatz)\n",
    "        history_list.append(history)\n",
    "        param_list.append(params)\n",
    "        cost_list.append(cost)\n",
    "        print(f\"Iteration {i} complete\")\n",
    "    return np.array(cost_list),np.array(param_list),history_list"
   ]
  },
  {
   "cell_type": "code",
   "execution_count": 10,
   "id": "0f7646a4-bb8a-45ea-b40f-ce2e36b82af1",
   "metadata": {},
   "outputs": [
    {
     "name": "stdout",
     "output_type": "stream",
     "text": [
      "------------Beginning Optimization------------\n",
      "Iteration 0 complete\n",
      "Iteration 1 complete\n",
      "Iteration 2 complete\n",
      "Iteration 3 complete\n",
      "Iteration 4 complete\n",
      "Iteration 5 complete\n",
      "Iteration 6 complete\n",
      "Iteration 7 complete\n",
      "Iteration 8 complete\n",
      "Iteration 9 complete\n",
      "------------Beginning Optimization------------\n",
      "Iteration 0 complete\n",
      "Iteration 1 complete\n",
      "Iteration 2 complete\n",
      "Iteration 3 complete\n",
      "Iteration 4 complete\n",
      "Iteration 5 complete\n",
      "Iteration 6 complete\n",
      "Iteration 7 complete\n",
      "Iteration 8 complete\n",
      "Iteration 9 complete\n",
      "------------Beginning Optimization------------\n",
      "Iteration 0 complete\n",
      "Iteration 1 complete\n",
      "Iteration 2 complete\n",
      "Iteration 3 complete\n",
      "Iteration 4 complete\n",
      "Iteration 5 complete\n",
      "Iteration 6 complete\n",
      "Iteration 7 complete\n",
      "Iteration 8 complete\n",
      "Iteration 9 complete\n",
      "------------Beginning Optimization------------\n",
      "Iteration 0 complete\n",
      "Iteration 1 complete\n",
      "Iteration 2 complete\n",
      "Iteration 3 complete\n",
      "Iteration 4 complete\n",
      "Iteration 5 complete\n",
      "Iteration 6 complete\n",
      "Iteration 7 complete\n",
      "Iteration 8 complete\n",
      "Iteration 9 complete\n",
      "------------Beginning Optimization------------\n",
      "Iteration 0 complete\n",
      "Iteration 1 complete\n",
      "Iteration 2 complete\n",
      "Iteration 3 complete\n",
      "Iteration 4 complete\n",
      "Iteration 5 complete\n",
      "Iteration 6 complete\n",
      "Iteration 7 complete\n",
      "Iteration 8 complete\n",
      "Iteration 9 complete\n",
      "------------Beginning Optimization------------\n",
      "Iteration 0 complete\n",
      "Iteration 1 complete\n",
      "Iteration 2 complete\n",
      "Iteration 3 complete\n",
      "Iteration 4 complete\n",
      "Iteration 5 complete\n",
      "Iteration 6 complete\n",
      "Iteration 7 complete\n",
      "Iteration 8 complete\n",
      "Iteration 9 complete\n",
      "------------Beginning Optimization------------\n",
      "Iteration 0 complete\n",
      "Iteration 1 complete\n",
      "Iteration 2 complete\n",
      "Iteration 3 complete\n",
      "Iteration 4 complete\n",
      "Iteration 5 complete\n",
      "Iteration 6 complete\n",
      "Iteration 7 complete\n",
      "Iteration 8 complete\n",
      "Iteration 9 complete\n",
      "------------Beginning Optimization------------\n",
      "Iteration 0 complete\n",
      "Iteration 1 complete\n",
      "Iteration 2 complete\n",
      "Iteration 3 complete\n",
      "Iteration 4 complete\n",
      "Iteration 5 complete\n",
      "Iteration 6 complete\n",
      "Iteration 7 complete\n",
      "Iteration 8 complete\n",
      "Iteration 9 complete\n"
     ]
    }
   ],
   "source": [
    "plist = np.array(range(1,5))\n",
    "ws_costs=[]\n",
    "ws_param_history = []\n",
    "for p in plist:\n",
    "    wsqaoa_ansatz = WarmStartQAOA(initial,0,H,p=p)\n",
    "    costs,params,history_list=circuit_optimization(wsqaoa_ansatz)\n",
    "    ws_costs.append(costs)\n",
    "    ws_param_history.append(params)\n",
    "\n",
    "q_costs=[]\n",
    "param_history = []\n",
    "for p in plist:\n",
    "    qaoa_ansatz = QAOA_Ansatz(H,default_mixer,p=p)\n",
    "    costs,params,history_list=circuit_optimization(qaoa_ansatz)\n",
    "    q_costs.append(costs)\n",
    "    param_history.append(params)"
   ]
  },
  {
   "cell_type": "code",
   "execution_count": 12,
   "id": "7e54163f-67ef-406e-a8a4-5141e7731d26",
   "metadata": {},
   "outputs": [],
   "source": [
    "\"Brute Force Solver (Try all Possibilities)\"\n",
    "min_cost = cost(np.zeros(num_assets))\n",
    "min_x = [cost(np.zeros(num_assets))]\n",
    "for i in range(2**num_assets):\n",
    "    x = np.array([x for x in '0'*(num_assets-len(bin(i)[2:]))+bin(i)[2:]],dtype=int)\n",
    "    if(cost(x) < min_cost):\n",
    "        min_cost = cost(x)\n",
    "        min_x  = [x]\n",
    "    elif(cost(x) == min_cost):\n",
    "        min_x.append(x)\n",
    "        \n",
    "        "
   ]
  },
  {
   "cell_type": "code",
   "execution_count": 13,
   "id": "5165e9e6-831d-4e73-b4e0-808f80d398e9",
   "metadata": {},
   "outputs": [
    {
     "name": "stdout",
     "output_type": "stream",
     "text": [
      "Optimal Solution(s): [array([1, 1, 1, 0, 1, 0, 0])]\n",
      "Optimal Cost: -1.5994066606373283\n"
     ]
    }
   ],
   "source": [
    "print(f\"Optimal Solution(s): {min_x}\")\n",
    "print(f\"Optimal Cost: {min_cost}\")"
   ]
  },
  {
   "cell_type": "code",
   "execution_count": 18,
   "id": "6888e226-a434-4f93-abc6-7ec82eafa57a",
   "metadata": {
    "scrolled": true
   },
   "outputs": [
    {
     "data": {
      "text/plain": [
       "<matplotlib.legend.Legend at 0x18c2149a600>"
      ]
     },
     "execution_count": 18,
     "metadata": {},
     "output_type": "execute_result"
    },
    {
     "data": {
      "image/png": "[encoded data removed]",
      "text/plain": [
       "<Figure size 640x480 with 1 Axes>"
      ]
     },
     "metadata": {},
     "output_type": "display_data"
    }
   ],
   "source": [
    "plt.plot(plist,np.median(ws_costs,axis=1),'-o',color='blue',label='WSQAOA')\n",
    "plt.fill_between(plist,np.min(ws_costs,axis=1),np.max(ws_costs,axis=1),color='skyblue')\n",
    "\n",
    "plt.plot(plist,np.median(q_costs,axis=1),'-o',color='orange',label='QAOA')\n",
    "plt.fill_between(plist,np.min(q_costs,axis=1),np.max(q_costs,axis=1),color='peachpuff')\n",
    "plt.plot(plist,[min_cost for p in plist],'--',label='Optimal')\n",
    "plt.xlabel('Depth')\n",
    "plt.ylabel('Minimum Energy')\n",
    "plt.title('WSQAOA vs QAOA Performance')\n",
    "plt.legend()"
   ]
  },
  {
   "cell_type": "code",
   "execution_count": 14,
   "id": "ee8cf658-1849-4914-9d51-94a090bf9904",
   "metadata": {
    "scrolled": true
   },
   "outputs": [],
   "source": [
    "\"Find optimal state\"\n",
    "optimal_state = np.zeros(2**num_assets)\n",
    "optimal_state[sum([2**(i)*v for i,v in enumerate(min_x[0])])] = 1\n",
    "optimal_state=Statevector(optimal_state)"
   ]
  },
  {
   "cell_type": "code",
   "execution_count": 15,
   "id": "07f18d69-ce14-4d28-827b-1169fa5de304",
   "metadata": {},
   "outputs": [],
   "source": [
    "ws_probs=[]\n",
    "for i,p in enumerate(plist):\n",
    "    wsqaoa_ansatz = WarmStartQAOA(initial,0,H,p=p)\n",
    "    overlaps = []\n",
    "    for params in ws_param_history[i]:\n",
    "        circuit_state = Statevector(wsqaoa_ansatz.assign_parameters(params))\n",
    "        overlaps.append(abs(circuit_state.inner(optimal_state))**2)\n",
    "    ws_probs.append(overlaps)\n",
    "\n",
    "probs=[]\n",
    "for i,p in enumerate(plist):\n",
    "    qaoa_ansatz = QAOA_Ansatz(H,default_mixer,p=p)\n",
    "    overlaps = []\n",
    "    for params in param_history[i]:\n",
    "        circuit_state = Statevector(qaoa_ansatz.assign_parameters(params))\n",
    "        overlaps.append(abs(circuit_state.inner(optimal_state))**2)\n",
    "    probs.append(overlaps)"
   ]
  },
  {
   "cell_type": "code",
   "execution_count": 16,
   "id": "7f47dad1-f420-4cd1-9890-789d3965fc59",
   "metadata": {},
   "outputs": [
    {
     "data": {
      "text/plain": [
       "<matplotlib.legend.Legend at 0x18c216490d0>"
      ]
     },
     "execution_count": 16,
     "metadata": {},
     "output_type": "execute_result"
    },
    {
     "data": {
      "image/png": "[encoded data removed]",
      "text/plain": [
       "<Figure size 640x480 with 1 Axes>"
      ]
     },
     "metadata": {},
     "output_type": "display_data"
    }
   ],
   "source": [
    "plt.plot(plist,np.median(ws_probs,axis=1),'-o',color='blue',label='WSQAOA')\n",
    "plt.fill_between(plist,np.min(ws_probs,axis=1),np.max(ws_probs,axis=1),color='skyblue')\n",
    "\n",
    "plt.plot(plist,np.median(probs,axis=1),'-o',color='orange',label='QAOA')\n",
    "plt.fill_between(plist,np.min(probs,axis=1),np.max(probs,axis=1),color='peachpuff')\n",
    "plt.xlabel('Depth')\n",
    "plt.ylabel('Minimum Energy')\n",
    "plt.title('WSQAOA vs QAOA Probability of Optimal')\n",
    "plt.legend()"
   ]
  }
 ],
 "metadata": {
  "kernelspec": {
   "display_name": "Python 3 (ipykernel)",
   "language": "python",
   "name": "python3"
  },
  "language_info": {
   "codemirror_mode": {
    "name": "ipython",
    "version": 3
   },
   "file_extension": ".py",
   "mimetype": "text/x-python",
   "name": "python",
   "nbconvert_exporter": "python",
   "pygments_lexer": "ipython3",
   "version": "3.12.2"
  }
 },
 "nbformat": 4,
 "nbformat_minor": 5
}
