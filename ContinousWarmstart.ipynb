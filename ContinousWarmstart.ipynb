{
 "cells": [
  {
   "cell_type": "code",
   "execution_count": 1,
   "id": "37f4e552-1b96-4d0e-838b-aadeef8d5953",
   "metadata": {},
   "outputs": [
    {
     "ename": "ModuleNotFoundError",
     "evalue": "No module named 'pandas'",
     "output_type": "error",
     "traceback": [
      "\u001b[1;31m---------------------------------------------------------------------------\u001b[0m",
      "\u001b[1;31mModuleNotFoundError\u001b[0m                       Traceback (most recent call last)",
      "Cell \u001b[1;32mIn[1], line 3\u001b[0m\n\u001b[0;32m      1\u001b[0m \u001b[38;5;28;01mimport\u001b[39;00m \u001b[38;5;21;01mnumpy\u001b[39;00m \u001b[38;5;28;01mas\u001b[39;00m \u001b[38;5;21;01mnp\u001b[39;00m\n\u001b[0;32m      2\u001b[0m \u001b[38;5;28;01mimport\u001b[39;00m \u001b[38;5;21;01mmatplotlib\u001b[39;00m\u001b[38;5;21;01m.\u001b[39;00m\u001b[38;5;21;01mpyplot\u001b[39;00m \u001b[38;5;28;01mas\u001b[39;00m \u001b[38;5;21;01mplt\u001b[39;00m\n\u001b[1;32m----> 3\u001b[0m \u001b[38;5;28;01mimport\u001b[39;00m \u001b[38;5;21;01mpandas\u001b[39;00m \u001b[38;5;28;01mas\u001b[39;00m \u001b[38;5;21;01mpd\u001b[39;00m\n\u001b[0;32m      4\u001b[0m \u001b[38;5;28;01mfrom\u001b[39;00m \u001b[38;5;21;01mqiskit\u001b[39;00m \u001b[38;5;28;01mimport\u001b[39;00m QuantumCircuit\n\u001b[0;32m      5\u001b[0m \u001b[38;5;28;01mfrom\u001b[39;00m \u001b[38;5;21;01mfunctools\u001b[39;00m \u001b[38;5;28;01mimport\u001b[39;00m reduce\n",
      "\u001b[1;31mModuleNotFoundError\u001b[0m: No module named 'pandas'"
     ]
    }
   ],
   "source": [
    "import numpy as np\n",
    "import matplotlib.pyplot as plt\n",
    "import pandas as pd\n",
    "from qiskit import QuantumCircuit\n",
    "from functools import reduce\n",
    "from qiskit.circuit.library import PauliEvolutionGate\n",
    "from qiskit.circuit import Parameter\n",
    "from qiskit.quantum_info import Statevector\n",
    "from qiskit_algorithms.optimizers import COBYLA"
   ]
  },
  {
   "cell_type": "code",
   "execution_count": null,
   "id": "e35aefc9-9ee6-49f3-9414-36e6080695be",
   "metadata": {},
   "outputs": [],
   "source": [
    "###Import historical price data\n",
    "stock_df=pd.read_csv(\"Historical_Stock_Data.csv\")\n",
    "num_assets=7\n",
    "stock_df.head()"
   ]
  },
  {
   "cell_type": "code",
   "execution_count": null,
   "id": "b5266262-48fb-454f-ab76-324de372fffd",
   "metadata": {},
   "outputs": [],
   "source": [
    "###Compute Returns Timeseries\n",
    "return_df = (stock_df[[t for t in stock_df.columns if t!=\"Date\"]]-stock_df[[t for t in stock_df.columns if t!=\"Date\"]].shift())/stock_df[[t for t in stock_df.columns if t!=\"Date\"]].shift()\n",
    "return_df = return_df.loc[1:]\n",
    "return_df.head()"
   ]
  },
  {
   "cell_type": "code",
   "execution_count": null,
   "id": "746c19ed-fb77-491f-91a9-f83f5ccb77dc",
   "metadata": {},
   "outputs": [],
   "source": [
    "###Pandas -> Numpy\n",
    "return_array  = np.array(return_df)"
   ]
  },
  {
   "cell_type": "code",
   "execution_count": null,
   "id": "b0f712d3-8e45-43b4-8cc4-f56e843102e7",
   "metadata": {},
   "outputs": [],
   "source": [
    "###Set up problem \n",
    "mu = np.mean(return_array,axis=0)\n",
    "sigma= np.array(return_df.cov())\n",
    "B = 4\n",
    "c = 0.1\n",
    "sigma_mu=sigma- np.diag(mu)\n",
    "A=sigma_mu+np.diag([-2*B*c for i in range(num_assets)])+c*np.ones((num_assets,num_assets))"
   ]
  },
  {
   "cell_type": "code",
   "execution_count": null,
   "id": "5b0c40f3-d186-4c5c-8c43-bd74e5b292d0",
   "metadata": {},
   "outputs": [],
   "source": [
    "###Continous relaxation\n",
    "import cvxpy as cp\n",
    "x = cp.Variable(num_assets)\n",
    "objective = cp.Minimize(x.T @ sigma @ x - x @ mu.T+c*(np.ones(num_assets).T @x - B)**2)\n",
    "constraints = [0 <= x, x <= 1]\n",
    "prob = cp.Problem(objective, constraints)\n",
    "result = prob.solve()\n",
    "initial = x.value\n",
    "initial"
   ]
  },
  {
   "cell_type": "code",
   "execution_count": null,
   "id": "70b2e147-68fa-4576-a235-4ae934eb06b0",
   "metadata": {},
   "outputs": [],
   "source": [
    "\"Function to compute expectation\"\n",
    "def cost(x):\n",
    "    return x.dot(A).dot(x)\n",
    "from qiskit.quantum_info import SparsePauliOp\n",
    "\n",
    "\"Indexed pauli ops (reverse qiskit order)\"\n",
    "def indexedZ(i):\n",
    "    return SparsePauliOp((num_assets-i-1)*'I' + 'Z' + 'I'*(i))\n",
    "\n",
    "def indexedY(i):\n",
    "    return SparsePauliOp((num_assets-i-1)*'I' + 'Y' + 'I'*(i))\n",
    "\n",
    "def indexedX(i):\n",
    "    return SparsePauliOp((num_assets-i-1)*'I' + 'X' + 'I'*(i))\n",
    "\n",
    "\n",
    "\"Encoded hamiltonian\"\n",
    "H = 0 * SparsePauliOp('I' * num_assets)\n",
    "for i in range(num_assets):\n",
    "    for j in range(num_assets):\n",
    "        H+=1/4 * A[i][j]* SparsePauliOp('I' * num_assets)-1/2 *  A[i][j]* indexedZ(i)+1/4 * A[i][j] * indexedZ(i) @ indexedZ(j)\n",
    "H=H.simplify()\n",
    "\n",
    "\"Constrcut Default Mixer\"\n",
    "H_mix = reduce(lambda a,b: a+b, [indexedX(i) for i in range(num_assets)])\n",
    "default_mixer = QuantumCircuit(num_assets)\n",
    "default_mixer.append( PauliEvolutionGate(H_mix, Parameter('t')), range(num_assets))\n",
    "\n",
    "\"Normal QAOA ansatz with a initial quantum circuit\"\n",
    "from qiskit.circuit import ParameterVector\n",
    "def QAOA_Ansatz(cost,mixer,p=1,initial=None):\n",
    "    qc=QuantumCircuit(num_assets)\n",
    "    if(initial is None):\n",
    "        qc.h(range(num_assets))\n",
    "    else:\n",
    "        qc = initial.copy()\n",
    "    Gamma = ParameterVector('γ',p)\n",
    "    Beta = ParameterVector('β',p)\n",
    "    for i in range(p):\n",
    "        qc.append(PauliEvolutionGate(cost,Gamma[i]),range(num_assets))\n",
    "        qc.append(mixer.assign_parameters([Beta[i]]),range(num_assets))\n",
    "    return qc\n"
   ]
  },
  {
   "cell_type": "code",
   "execution_count": null,
   "id": "66f1ca95-7bd6-42a5-8c7d-ec697897ff81",
   "metadata": {},
   "outputs": [],
   "source": [
    "\"Convert angle to warmstart\"\n",
    "def get_angle(c,epsilon):\n",
    "    if(c<= epsilon):\n",
    "        return 2*np.arcsin(np.sqrt(epsilon))\n",
    "    elif(c>=1-epsilon):\n",
    "        return 2*np.arcsin(np.sqrt(1-epsilon))\n",
    "    else:\n",
    "        return 2*np.arcsin(np.sqrt(c))\n",
    "\n",
    "\"Warmstart QAOA\"\n",
    "def WarmStartQAOA(initial,epsilon,cost,p=1):\n",
    "    \n",
    "    theta_list = [get_angle(i,epsilon) for i in initial]\n",
    "\n",
    "    init_qc= QuantumCircuit(num_assets)\n",
    "    mixer=QuantumCircuit(num_assets)\n",
    "\n",
    "    t = Parameter('t')\n",
    "    for i,v in enumerate(theta_list):\n",
    "        init_qc.ry(v,i)\n",
    "        mixer.ry(-v,i)\n",
    "        mixer.rz(-2*t,i)\n",
    "        mixer.ry(v,i)\n",
    "    return QAOA_Ansatz(cost=cost,mixer=mixer,p=p,initial=init_qc)\n",
    "        \n"
   ]
  },
  {
   "cell_type": "code",
   "execution_count": null,
   "id": "2e7c55e5-0f16-4fe7-932b-0f842c0a3ccf",
   "metadata": {},
   "outputs": [],
   "source": [
    "opt = COBYLA(maxiter = 10**2) ###Change if needed\n",
    "def single_circuit_optimization(ansatz):\n",
    "    history = {\"cost\": [], \"params\": []}\n",
    "    def compute_expectation(x):\n",
    "        psi = Statevector(ansatz.assign_parameters(x))\n",
    "        l = psi.expectation_value(H).real\n",
    "        history[\"cost\"].append(l)\n",
    "        history[\"params\"].append(x)\n",
    "        return l\n",
    "    res = opt.minimize(fun= compute_expectation, x0 = np.random.random(ansatz.num_parameters))\n",
    "    return res.fun,res.x,history\n",
    "\n",
    "def circuit_optimization(ansatz,reps=10):\n",
    "    print(\"------------Beginning Optimization------------\")\n",
    "    history_list = []\n",
    "    param_list = []\n",
    "    cost_list = []\n",
    "    for i in range(reps):\n",
    "        cost,params,history = single_circuit_optimization(ansatz)\n",
    "        history_list.append(history)\n",
    "        param_list.append(params)\n",
    "        cost_list.append(cost)\n",
    "        print(f\"Iteration {i} complete\")\n",
    "    return np.array(cost_list),np.array(param_list),history_list"
   ]
  },
  {
   "cell_type": "code",
   "execution_count": null,
   "id": "0f7646a4-bb8a-45ea-b40f-ce2e36b82af1",
   "metadata": {},
   "outputs": [],
   "source": [
    "plist = np.array(range(1,5))\n",
    "ws_costs=[]\n",
    "ws_param_history = []\n",
    "for p in plist:\n",
    "    wsqaoa_ansatz = WarmStartQAOA(initial,0,H,p=p)\n",
    "    costs,params,history_list=circuit_optimization(wsqaoa_ansatz)\n",
    "    ws_costs.append(costs)\n",
    "    ws_param_history.append(params)\n",
    "\n",
    "q_costs=[]\n",
    "param_history = []\n",
    "for p in plist:\n",
    "    qaoa_ansatz = QAOA_Ansatz(H,default_mixer,p=p)\n",
    "    costs,params,history_list=circuit_optimization(qaoa_ansatz)\n",
    "    q_costs.append(costs)\n",
    "    param_history.append(params)"
   ]
  },
  {
   "cell_type": "code",
   "execution_count": null,
   "id": "6888e226-a434-4f93-abc6-7ec82eafa57a",
   "metadata": {},
   "outputs": [],
   "source": [
    "plt.plot(plist,np.median(ws_costs,axis=1),'-o',color='blue',label='WSQAOA')\n",
    "plt.fill_between(plist,np.min(ws_costs,axis=1),np.max(ws_costs,axis=1),color='skyblue')\n",
    "\n",
    "plt.plot(plist,np.median(q_costs,axis=1),'-o',color='orange',label='QAOA')\n",
    "plt.fill_between(plist,np.min(q_costs,axis=1),np.max(q_costs,axis=1),color='peachpuff')\n",
    "plt.xlabel('Depth')\n",
    "plt.ylabel('Minimum Energy')\n",
    "plt.title('WSQAOA vs QAOA Performance')\n",
    "plt.legend()"
   ]
  },
  {
   "cell_type": "code",
   "execution_count": null,
   "id": "7e54163f-67ef-406e-a8a4-5141e7731d26",
   "metadata": {},
   "outputs": [],
   "source": [
    "\"Brute Force Solver (Try all Possibilities)\"\n",
    "min_cost = cost(np.zeros(num_assets))\n",
    "min_x = [cost(np.zeros(num_assets))]\n",
    "for i in range(2**num_assets):\n",
    "    x = np.array([x for x in '0'*(num_assets-len(bin(i)[2:]))+bin(i)[2:]],dtype=int)\n",
    "    if(cost(x) < min_cost):\n",
    "        min_cost = cost(x)\n",
    "        min_x  = [x]\n",
    "    elif(cost(x) == min_cost):\n",
    "        min_x.append(x)\n",
    "        \n",
    "        "
   ]
  },
  {
   "cell_type": "code",
   "execution_count": null,
   "id": "5165e9e6-831d-4e73-b4e0-808f80d398e9",
   "metadata": {},
   "outputs": [],
   "source": [
    "print(f\"Optimal Solution(s): {min_x}\")\n",
    "print(f\"Optimal Cost: {min_cost}\")"
   ]
  },
  {
   "cell_type": "code",
   "execution_count": null,
   "id": "ee8cf658-1849-4914-9d51-94a090bf9904",
   "metadata": {
    "scrolled": true
   },
   "outputs": [],
   "source": [
    "\"Find optimal state\"\n",
    "optimal_state = np.zeros(2**num_assets)\n",
    "optimal_state[sum([2**(i)*v for i,v in enumerate(min_x[0])])] = 1\n",
    "optimal_state=Statevector(optimal_state)"
   ]
  },
  {
   "cell_type": "code",
   "execution_count": null,
   "id": "07f18d69-ce14-4d28-827b-1169fa5de304",
   "metadata": {},
   "outputs": [],
   "source": [
    "ws_probs=[]\n",
    "for i,p in enumerate(plist):\n",
    "    wsqaoa_ansatz = WarmStartQAOA(initial,0,H,p=p)\n",
    "    overlaps = []\n",
    "    for params in ws_param_history[i]:\n",
    "        circuit_state = Statevector(wsqaoa_ansatz.assign_parameters(params))\n",
    "        overlaps.append(abs(circuit_state.inner(optimal_state))**2)\n",
    "    ws_probs.append(overlaps)\n",
    "\n",
    "probs=[]\n",
    "for i,p in enumerate(plist):\n",
    "    qaoa_ansatz = QAOA_Ansatz(H,default_mixer,p=p)\n",
    "    overlaps = []\n",
    "    for params in param_history[i]:\n",
    "        circuit_state = Statevector(qaoa_ansatz.assign_parameters(params))\n",
    "        overlaps.append(abs(circuit_state.inner(optimal_state))**2)\n",
    "    probs.append(overlaps)"
   ]
  },
  {
   "cell_type": "code",
   "execution_count": null,
   "id": "7f47dad1-f420-4cd1-9890-789d3965fc59",
   "metadata": {},
   "outputs": [],
   "source": [
    "plt.plot(plist,np.median(ws_probs,axis=1),'-o',color='blue',label='WSQAOA')\n",
    "plt.fill_between(plist,np.min(ws_probs,axis=1),np.max(ws_probs,axis=1),color='skyblue')\n",
    "\n",
    "plt.plot(plist,np.median(probs,axis=1),'-o',color='orange',label='QAOA')\n",
    "plt.fill_between(plist,np.min(probs,axis=1),np.max(probs,axis=1),color='peachpuff')\n",
    "plt.xlabel('Depth')\n",
    "plt.ylabel('Minimum Energy')\n",
    "plt.title('WSQAOA vs QAOA Probability of Optimal')\n",
    "plt.legend()"
   ]
  }
 ],
 "metadata": {
  "kernelspec": {
   "display_name": "Python 3 (ipykernel)",
   "language": "python",
   "name": "python3"
  },
  "language_info": {
   "codemirror_mode": {
    "name": "ipython",
    "version": 3
   },
   "file_extension": ".py",
   "mimetype": "text/x-python",
   "name": "python",
   "nbconvert_exporter": "python",
   "pygments_lexer": "ipython3",
   "version": "3.12.2"
  }
 },
 "nbformat": 4,
 "nbformat_minor": 5
}
